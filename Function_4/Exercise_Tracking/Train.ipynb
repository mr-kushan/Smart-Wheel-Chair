{
 "cells": [
  {
   "cell_type": "markdown",
   "metadata": {},
   "source": [
    "## Training the neck exercise movement detection model"
   ]
  },
  {
   "cell_type": "code",
   "execution_count": null,
   "metadata": {
    "executionInfo": {
     "elapsed": 25619,
     "status": "ok",
     "timestamp": 1731746085397,
     "user": {
      "displayName": "Mus-ab Umama",
      "userId": "06308630355882102992"
     },
     "user_tz": -330
    },
    "id": "nfXrEV-BSV8p"
   },
   "outputs": [],
   "source": [
    "import os\n",
    "import json\n",
    "import numpy as np\n",
    "from collections import Counter\n",
    "from sklearn.preprocessing import LabelEncoder, StandardScaler\n",
    "from sklearn.utils import resample\n",
    "from tf_keras.utils import to_categorical\n",
    "from tf_keras.preprocessing.image import load_img, img_to_array\n",
    "\n",
    "EXPECTED_NUM_KEYPOINTS = 17\n",
    "\n",
    "def load_data(data_dir):\n",
    "    images = []\n",
    "    keypoints = []\n",
    "    labels = []\n",
    "\n",
    "    for exercise_name in os.listdir(data_dir):\n",
    "        exercise_folder = os.path.join(data_dir, exercise_name)\n",
    "        if not os.path.isdir(exercise_folder):\n",
    "            continue\n",
    "\n",
    "        for sequence_name in os.listdir(exercise_folder):\n",
    "            sequence_folder = os.path.join(exercise_folder, sequence_name)\n",
    "            if not os.path.isdir(sequence_folder):\n",
    "                continue\n",
    "\n",
    "            for file in os.listdir(sequence_folder):\n",
    "                if file.endswith(\".jpg\"):\n",
    "                    image_path = os.path.join(sequence_folder, file)\n",
    "                    json_path = image_path.replace(\".jpg\", \".json\")\n",
    "\n",
    "\n",
    "                    image = load_img(image_path, target_size=(224, 224))\n",
    "                    image = img_to_array(image) / 255.0\n",
    "                    images.append(image)\n",
    "\n",
    "                    with open(json_path, 'r') as f:\n",
    "                        data = json.load(f)\n",
    "\n",
    "                    frame_keypoints = []\n",
    "                    for kp in data.get(\"keypoints\", []):\n",
    "                        x = kp.get(\"x\", 0)\n",
    "                        y = kp.get(\"y\", 0)\n",
    "\n",
    "                        x /= 224.0\n",
    "                        y /= 224.0\n",
    "                        frame_keypoints.append((x, y))\n",
    "\n",
    "                    frame_keypoints = [coord for point in frame_keypoints for coord in point]\n",
    "\n",
    "                    if len(frame_keypoints) < EXPECTED_NUM_KEYPOINTS * 2:\n",
    "                        frame_keypoints.extend([0] * (EXPECTED_NUM_KEYPOINTS * 2 - len(frame_keypoints)))\n",
    "                    elif len(frame_keypoints) > EXPECTED_NUM_KEYPOINTS * 2:\n",
    "                        frame_keypoints = frame_keypoints[:EXPECTED_NUM_KEYPOINTS * 2]\n",
    "\n",
    "                    keypoints.append(frame_keypoints)\n",
    "\n",
    "                    labels.append(exercise_name)\n",
    "\n",
    "    images = np.array(images)\n",
    "    keypoints = np.array(keypoints)\n",
    "    print(f\"Shape of images: {images.shape}\")\n",
    "    print(f\"Shape of keypoints: {keypoints.shape}\")\n",
    "\n",
    "    scaler = StandardScaler()\n",
    "    keypoints = scaler.fit_transform(keypoints)\n",
    "\n",
    "    label_encoder = LabelEncoder()\n",
    "    labels_encoded = label_encoder.fit_transform(labels)\n",
    "\n",
    "    class_counts = Counter(labels_encoded)\n",
    "    print(\"Class Distribution Before Oversampling:\")\n",
    "    for cls, count in class_counts.items():\n",
    "        print(f\"Class {cls} ({label_encoder.inverse_transform([cls])[0]}): {count}\")\n",
    "\n",
    "    max_samples = max(class_counts.values())\n",
    "    oversampled_images = []\n",
    "    oversampled_keypoints = []\n",
    "    oversampled_labels = []\n",
    "\n",
    "    for cls in class_counts.keys():\n",
    "        class_indices = [i for i, lbl in enumerate(labels_encoded) if lbl == cls]\n",
    "        class_images = images[class_indices]\n",
    "        class_keypoints = keypoints[class_indices]\n",
    "        class_labels = [cls] * len(class_indices)\n",
    "\n",
    "        oversampled_class_images, oversampled_class_keypoints, oversampled_class_labels = resample(\n",
    "            class_images, class_keypoints, class_labels,\n",
    "            replace=True, n_samples=max_samples, random_state=42\n",
    "        )\n",
    "\n",
    "        oversampled_images.extend(oversampled_class_images)\n",
    "        oversampled_keypoints.extend(oversampled_class_keypoints)\n",
    "        oversampled_labels.extend(oversampled_class_labels)\n",
    "\n",
    "    oversampled_images = np.array(oversampled_images)\n",
    "    oversampled_keypoints = np.array(oversampled_keypoints)\n",
    "    oversampled_labels = np.array(oversampled_labels)\n",
    "\n",
    "    print(\"\\nClass Distribution After Oversampling:\")\n",
    "    oversampled_class_counts = Counter(oversampled_labels)\n",
    "    for cls, count in oversampled_class_counts.items():\n",
    "        print(f\"Class {cls} ({label_encoder.inverse_transform([cls])[0]}): {count}\")\n",
    "\n",
    "    oversampled_labels = to_categorical(oversampled_labels)\n",
    "\n",
    "    return oversampled_images, oversampled_keypoints, oversampled_labels, label_encoder"
   ]
  },
  {
   "cell_type": "code",
   "execution_count": null,
   "metadata": {
    "executionInfo": {
     "elapsed": 8,
     "status": "ok",
     "timestamp": 1731746085398,
     "user": {
      "displayName": "Mus-ab Umama",
      "userId": "06308630355882102992"
     },
     "user_tz": -330
    },
    "id": "3Zlt6-mHfY9K"
   },
   "outputs": [],
   "source": [
    "from tf_keras.models import Model\n",
    "from tf_keras.layers import Input, Conv2D, MaxPooling2D, GlobalAveragePooling2D, Dense, Dropout, Concatenate\n",
    "from tf_keras.optimizers import Adam\n",
    "import numpy as np\n",
    "\n",
    "\n",
    "def build_combined_model(image_shape, keypoints_shape, num_classes):\n",
    "\n",
    "    image_input = Input(shape=image_shape, name=\"image_input\")\n",
    "\n",
    "    x = Conv2D(16, (3, 3), activation='relu', padding='same')(image_input)\n",
    "    x = MaxPooling2D((2, 2))(x)\n",
    "\n",
    "    x = Conv2D(32, (3, 3), activation='relu', padding='same')(x)\n",
    "    x = MaxPooling2D((2, 2))(x)\n",
    "\n",
    "    x = Conv2D(64, (3, 3), activation='relu', padding='same')(x)\n",
    "    x = MaxPooling2D((2, 2))(x)\n",
    "\n",
    "    x = GlobalAveragePooling2D()(x)\n",
    "    image_features = Dense(32, activation='relu')(x)\n",
    "\n",
    "    keypoints_input = Input(shape=keypoints_shape, name=\"keypoints_input\")\n",
    "    y = Dense(32, activation='relu')(keypoints_input)\n",
    "    y = Dropout(0.3)(y)\n",
    "\n",
    "    combined = Concatenate()([image_features, y])\n",
    "    combined = Dense(32, activation='relu')(combined)\n",
    "    combined = Dropout(0.3)(combined)\n",
    "\n",
    "    output = Dense(num_classes, activation='softmax', name=\"output\")(combined)\n",
    "\n",
    "    model = Model(inputs=[image_input, keypoints_input], outputs=output)\n",
    "\n",
    "    model.compile(\n",
    "        optimizer=Adam(learning_rate=0.0001),\n",
    "        loss='categorical_crossentropy',\n",
    "        metrics=['accuracy']\n",
    "    )\n",
    "\n",
    "    return model"
   ]
  },
  {
   "cell_type": "code",
   "execution_count": null,
   "metadata": {
    "colab": {
     "base_uri": "https://localhost:8080/"
    },
    "executionInfo": {
     "elapsed": 59637,
     "status": "ok",
     "timestamp": 1731746145029,
     "user": {
      "displayName": "Mus-ab Umama",
      "userId": "06308630355882102992"
     },
     "user_tz": -330
    },
    "id": "OZnwg4uISJON",
    "outputId": "e7fb5500-326a-4fab-e5fc-abb6f9c38531"
   },
   "outputs": [
    {
     "name": "stdout",
     "output_type": "stream",
     "text": [
      "Shape of images: (1031, 224, 224, 3)\n",
      "Shape of keypoints: (1031, 34)\n",
      "Class Distribution Before Oversampling:\n",
      "Class 1 (Head Turns): 193\n",
      "Class 0 (Head Rotation): 193\n",
      "Class 3 (Neck Side bend): 279\n",
      "Class 2 (Neck Extension): 40\n",
      "Class 5 (Shoulder Shrug): 156\n",
      "Class 4 (Neck Stretch): 170\n",
      "\n",
      "Class Distribution After Oversampling:\n",
      "Class 1 (Head Turns): 279\n",
      "Class 0 (Head Rotation): 279\n",
      "Class 3 (Neck Side bend): 279\n",
      "Class 2 (Neck Extension): 279\n",
      "Class 5 (Shoulder Shrug): 279\n",
      "Class 4 (Neck Stretch): 279\n"
     ]
    }
   ],
   "source": [
    "data_dir = '/content/drive/MyDrive/Exercise Tracking/Augmented Exercise Frames'\n",
    "images, keypoints, labels, label_encoder = load_data(data_dir)\n",
    "\n",
    "image_shape = images.shape[1:]\n",
    "keypoints_shape = keypoints.shape[1]\n",
    "num_classes = labels.shape[1]\n",
    "\n",
    "model = build_combined_model(image_shape, keypoints_shape, num_classes)"
   ]
  },
  {
   "cell_type": "code",
   "execution_count": null,
   "metadata": {
    "colab": {
     "base_uri": "https://localhost:8080/"
    },
    "executionInfo": {
     "elapsed": 35,
     "status": "ok",
     "timestamp": 1731746145030,
     "user": {
      "displayName": "Mus-ab Umama",
      "userId": "06308630355882102992"
     },
     "user_tz": -330
    },
    "id": "yTsL271dSJ82",
    "outputId": "02b4d4a3-bb04-442e-a61d-1d8c55cadd8e"
   },
   "outputs": [
    {
     "name": "stdout",
     "output_type": "stream",
     "text": [
      "Model: \"model\"\n",
      "__________________________________________________________________________________________________\n",
      " Layer (type)                Output Shape                 Param #   Connected to                  \n",
      "==================================================================================================\n",
      " image_input (InputLayer)    [(None, 224, 224, 3)]        0         []                            \n",
      "                                                                                                  \n",
      " conv2d (Conv2D)             (None, 224, 224, 16)         448       ['image_input[0][0]']         \n",
      "                                                                                                  \n",
      " max_pooling2d (MaxPooling2  (None, 112, 112, 16)         0         ['conv2d[0][0]']              \n",
      " D)                                                                                               \n",
      "                                                                                                  \n",
      " conv2d_1 (Conv2D)           (None, 112, 112, 32)         4640      ['max_pooling2d[0][0]']       \n",
      "                                                                                                  \n",
      " max_pooling2d_1 (MaxPoolin  (None, 56, 56, 32)           0         ['conv2d_1[0][0]']            \n",
      " g2D)                                                                                             \n",
      "                                                                                                  \n",
      " conv2d_2 (Conv2D)           (None, 56, 56, 64)           18496     ['max_pooling2d_1[0][0]']     \n",
      "                                                                                                  \n",
      " max_pooling2d_2 (MaxPoolin  (None, 28, 28, 64)           0         ['conv2d_2[0][0]']            \n",
      " g2D)                                                                                             \n",
      "                                                                                                  \n",
      " keypoints_input (InputLaye  [(None, 34)]                 0         []                            \n",
      " r)                                                                                               \n",
      "                                                                                                  \n",
      " global_average_pooling2d (  (None, 64)                   0         ['max_pooling2d_2[0][0]']     \n",
      " GlobalAveragePooling2D)                                                                          \n",
      "                                                                                                  \n",
      " dense_1 (Dense)             (None, 32)                   1120      ['keypoints_input[0][0]']     \n",
      "                                                                                                  \n",
      " dense (Dense)               (None, 32)                   2080      ['global_average_pooling2d[0][\n",
      "                                                                    0]']                          \n",
      "                                                                                                  \n",
      " dropout (Dropout)           (None, 32)                   0         ['dense_1[0][0]']             \n",
      "                                                                                                  \n",
      " concatenate (Concatenate)   (None, 64)                   0         ['dense[0][0]',               \n",
      "                                                                     'dropout[0][0]']             \n",
      "                                                                                                  \n",
      " dense_2 (Dense)             (None, 32)                   2080      ['concatenate[0][0]']         \n",
      "                                                                                                  \n",
      " dropout_1 (Dropout)         (None, 32)                   0         ['dense_2[0][0]']             \n",
      "                                                                                                  \n",
      " output (Dense)              (None, 6)                    198       ['dropout_1[0][0]']           \n",
      "                                                                                                  \n",
      "==================================================================================================\n",
      "Total params: 29062 (113.52 KB)\n",
      "Trainable params: 29062 (113.52 KB)\n",
      "Non-trainable params: 0 (0.00 Byte)\n",
      "__________________________________________________________________________________________________\n"
     ]
    }
   ],
   "source": [
    "model.summary()"
   ]
  },
  {
   "cell_type": "code",
   "execution_count": null,
   "metadata": {
    "colab": {
     "base_uri": "https://localhost:8080/"
    },
    "executionInfo": {
     "elapsed": 1996990,
     "status": "ok",
     "timestamp": 1731748142010,
     "user": {
      "displayName": "Mus-ab Umama",
      "userId": "06308630355882102992"
     },
     "user_tz": -330
    },
    "id": "Bzj4bdKKfcjf",
    "outputId": "0a058448-b2da-483a-d0db-efada0028e9c"
   },
   "outputs": [
    {
     "name": "stdout",
     "output_type": "stream",
     "text": [
      "Epoch 1/50\n",
      "168/168 [==============================] - 78s 456ms/step - loss: 1.8961 - accuracy: 0.1942 - val_loss: 2.1502 - val_accuracy: 0.0567 - lr: 1.0000e-04\n",
      "Epoch 2/50\n"
     ]
    },
    {
     "name": "stderr",
     "output_type": "stream",
     "text": [
      "/usr/local/lib/python3.10/dist-packages/tf_keras/src/engine/training.py:3098: UserWarning: You are saving your model as an HDF5 file via `model.save()`. This file format is considered legacy. We recommend using instead the native TF-Keras format, e.g. `model.save('my_model.keras')`.\n",
      "  saving_api.save_model(\n"
     ]
    },
    {
     "name": "stdout",
     "output_type": "stream",
     "text": [
      "168/168 [==============================] - 80s 476ms/step - loss: 1.6437 - accuracy: 0.2793 - val_loss: 3.0386 - val_accuracy: 0.1015 - lr: 1.0000e-04\n",
      "Epoch 3/50\n",
      "168/168 [==============================] - 74s 441ms/step - loss: 1.4694 - accuracy: 0.3712 - val_loss: 3.2680 - val_accuracy: 0.1075 - lr: 1.0000e-04\n",
      "Epoch 4/50\n",
      "168/168 [==============================] - 75s 445ms/step - loss: 1.3608 - accuracy: 0.4257 - val_loss: 3.1927 - val_accuracy: 0.1134 - lr: 1.0000e-04\n",
      "Epoch 5/50\n",
      "168/168 [==============================] - 80s 475ms/step - loss: 1.2283 - accuracy: 0.4832 - val_loss: 3.3374 - val_accuracy: 0.1164 - lr: 1.0000e-04\n",
      "Epoch 6/50\n",
      "168/168 [==============================] - 76s 451ms/step - loss: 1.1308 - accuracy: 0.5258 - val_loss: 3.5735 - val_accuracy: 0.1343 - lr: 1.0000e-04\n",
      "Epoch 7/50\n",
      "168/168 [==============================] - 74s 438ms/step - loss: 1.0643 - accuracy: 0.5534 - val_loss: 3.5618 - val_accuracy: 0.1164 - lr: 1.0000e-04\n",
      "Epoch 8/50\n",
      "168/168 [==============================] - 81s 485ms/step - loss: 1.0175 - accuracy: 0.5818 - val_loss: 3.8219 - val_accuracy: 0.1164 - lr: 1.0000e-04\n",
      "Epoch 9/50\n",
      "168/168 [==============================] - 81s 485ms/step - loss: 0.9644 - accuracy: 0.5765 - val_loss: 3.7202 - val_accuracy: 0.1194 - lr: 1.0000e-04\n",
      "Epoch 10/50\n",
      "168/168 [==============================] - 74s 439ms/step - loss: 0.9268 - accuracy: 0.5945 - val_loss: 4.4038 - val_accuracy: 0.1164 - lr: 1.0000e-04\n",
      "Epoch 11/50\n",
      "168/168 [==============================] - 75s 447ms/step - loss: 0.9053 - accuracy: 0.6154 - val_loss: 4.1522 - val_accuracy: 0.1194 - lr: 1.0000e-04\n",
      "Epoch 12/50\n",
      "168/168 [==============================] - 77s 458ms/step - loss: 0.8881 - accuracy: 0.6131 - val_loss: 4.3058 - val_accuracy: 0.1284 - lr: 1.0000e-04\n",
      "Epoch 13/50\n",
      "168/168 [==============================] - 80s 475ms/step - loss: 0.8642 - accuracy: 0.6281 - val_loss: 4.5507 - val_accuracy: 0.1164 - lr: 1.0000e-04\n",
      "Epoch 14/50\n",
      "168/168 [==============================] - 79s 474ms/step - loss: 0.8271 - accuracy: 0.6355 - val_loss: 4.5606 - val_accuracy: 0.1164 - lr: 1.0000e-04\n",
      "Epoch 15/50\n",
      "168/168 [==============================] - 80s 478ms/step - loss: 0.8112 - accuracy: 0.6460 - val_loss: 4.5552 - val_accuracy: 0.1164 - lr: 1.0000e-04\n",
      "Epoch 16/50\n",
      "168/168 [==============================] - 80s 475ms/step - loss: 0.7874 - accuracy: 0.6632 - val_loss: 4.7858 - val_accuracy: 0.1194 - lr: 1.0000e-04\n",
      "Epoch 17/50\n",
      "168/168 [==============================] - 75s 447ms/step - loss: 0.7672 - accuracy: 0.6639 - val_loss: 4.9806 - val_accuracy: 0.1194 - lr: 5.0000e-05\n",
      "Epoch 18/50\n",
      "168/168 [==============================] - 75s 448ms/step - loss: 0.7564 - accuracy: 0.6774 - val_loss: 4.8984 - val_accuracy: 0.1194 - lr: 5.0000e-05\n",
      "Epoch 19/50\n",
      "168/168 [==============================] - 77s 459ms/step - loss: 0.7329 - accuracy: 0.6647 - val_loss: 5.0342 - val_accuracy: 0.1194 - lr: 5.0000e-05\n",
      "Epoch 20/50\n",
      "168/168 [==============================] - 74s 444ms/step - loss: 0.7380 - accuracy: 0.6819 - val_loss: 5.1224 - val_accuracy: 0.1194 - lr: 5.0000e-05\n",
      "Epoch 21/50\n",
      "168/168 [==============================] - 75s 446ms/step - loss: 0.7491 - accuracy: 0.6572 - val_loss: 5.2585 - val_accuracy: 0.1194 - lr: 5.0000e-05\n",
      "Epoch 22/50\n",
      "168/168 [==============================] - 77s 457ms/step - loss: 0.7322 - accuracy: 0.6594 - val_loss: 5.2208 - val_accuracy: 0.1224 - lr: 5.0000e-05\n",
      "Epoch 23/50\n",
      "168/168 [==============================] - 73s 436ms/step - loss: 0.7020 - accuracy: 0.6744 - val_loss: 5.3890 - val_accuracy: 0.1164 - lr: 5.0000e-05\n",
      "Epoch 24/50\n",
      "168/168 [==============================] - 76s 452ms/step - loss: 0.6816 - accuracy: 0.6901 - val_loss: 4.9677 - val_accuracy: 0.1194 - lr: 5.0000e-05\n",
      "Epoch 25/50\n",
      "168/168 [==============================] - 74s 439ms/step - loss: 0.7011 - accuracy: 0.6848 - val_loss: 5.4908 - val_accuracy: 0.1194 - lr: 5.0000e-05\n",
      "Epoch 26/50\n",
      "168/168 [==============================] - 74s 437ms/step - loss: 0.7026 - accuracy: 0.6751 - val_loss: 5.2445 - val_accuracy: 0.1194 - lr: 5.0000e-05\n"
     ]
    }
   ],
   "source": [
    "from tf_keras.callbacks import ModelCheckpoint\n",
    "from tf_keras.callbacks import ReduceLROnPlateau, EarlyStopping\n",
    "\n",
    "lr_scheduler = ReduceLROnPlateau(monitor='val_loss', factor=0.5, patience=15, min_lr=1e-6)\n",
    "early_stopping = EarlyStopping(monitor='val_loss', patience=25, restore_best_weights=True)\n",
    "checkpoint = ModelCheckpoint('exercise_model.h5', save_best_only=True, monitor='val_loss', mode='min')\n",
    "callbacks = [lr_scheduler, early_stopping, checkpoint]\n",
    "\n",
    "history = model.fit(\n",
    "    x=[images, keypoints],\n",
    "    y=labels,\n",
    "    epochs=50,\n",
    "    validation_split=0.2,\n",
    "    batch_size=8,\n",
    "    callbacks=callbacks\n",
    ")\n"
   ]
  },
  {
   "cell_type": "code",
   "execution_count": null,
   "metadata": {
    "colab": {
     "base_uri": "https://localhost:8080/",
     "height": 843
    },
    "executionInfo": {
     "elapsed": 20,
     "status": "ok",
     "timestamp": 1731748142010,
     "user": {
      "displayName": "Mus-ab Umama",
      "userId": "06308630355882102992"
     },
     "user_tz": -330
    },
    "id": "cXvUvEeDjcRb",
    "outputId": "7fda5d78-a60d-471b-d573-34b5778f53ac"
   },
   "outputs": [
    {
     "data": {
      "image/png": "[encoded data removed]",
      "text/plain": [
       "<Figure size 640x480 with 1 Axes>"
      ]
     },
     "metadata": {},
     "output_type": "display_data"
    },
    {
     "data": {
      "image/png": "[encoded data removed]",
      "text/plain": [
       "<Figure size 640x480 with 1 Axes>"
      ]
     },
     "metadata": {},
     "output_type": "display_data"
    }
   ],
   "source": [
    "import matplotlib.pyplot as plt\n",
    "\n",
    "plt.plot(history.history['loss'], label='Training Loss')\n",
    "plt.plot(history.history['val_loss'], label='Validation Loss')\n",
    "plt.legend()\n",
    "plt.show()\n",
    "\n",
    "plt.plot(history.history['accuracy'], label='Training Accuracy')\n",
    "plt.plot(history.history['val_accuracy'], label='Validation Accuracy')\n",
    "plt.legend()\n",
    "plt.show()"
   ]
  },
  {
   "cell_type": "code",
   "execution_count": null,
   "metadata": {
    "colab": {
     "base_uri": "https://localhost:8080/"
    },
    "executionInfo": {
     "elapsed": 16872,
     "status": "ok",
     "timestamp": 1731748158876,
     "user": {
      "displayName": "Mus-ab Umama",
      "userId": "06308630355882102992"
     },
     "user_tz": -330
    },
    "id": "YmB5LN5KjgzC",
    "outputId": "e1225fde-0af6-40d6-cc90-e5dd5821eb1d"
   },
   "outputs": [
    {
     "name": "stdout",
     "output_type": "stream",
     "text": [
      "Validation Loss: 2.1502\n",
      "Validation Accuracy: 0.0567\n",
      "11/11 [==============================] - 7s 580ms/step\n",
      "Predicted class: 0, True class: 5\n",
      "Predicted class: 0, True class: 5\n",
      "Predicted class: 0, True class: 5\n",
      "Predicted class: 0, True class: 5\n",
      "Predicted class: 0, True class: 5\n",
      "Predicted class: 5, True class: 5\n",
      "Predicted class: 0, True class: 5\n",
      "Predicted class: 2, True class: 5\n",
      "Predicted class: 2, True class: 5\n",
      "Predicted class: 5, True class: 5\n"
     ]
    }
   ],
   "source": [
    "loss, accuracy = model.evaluate(x=[images[int(len(images)*0.8):], keypoints[int(len(keypoints)*0.8):]], y=labels[int(len(labels)*0.8):], verbose=0)\n",
    "print(f\"Validation Loss: {loss:.4f}\")\n",
    "print(f\"Validation Accuracy: {accuracy:.4f}\")\n",
    "\n",
    "predictions = model.predict([images[int(len(images)*0.8):], keypoints[int(len(keypoints)*0.8):]])\n",
    "\n",
    "predicted_classes = np.argmax(predictions, axis=1)\n",
    "\n",
    "true_classes = np.argmax(labels[int(len(labels)*0.8):], axis=1)\n",
    "\n",
    "for i in range(10):\n",
    "    print(f\"Predicted class: {predicted_classes[i]}, True class: {true_classes[i]}\")"
   ]
  },
  {
   "cell_type": "code",
   "execution_count": null,
   "metadata": {
    "colab": {
     "base_uri": "https://localhost:8080/"
    },
    "executionInfo": {
     "elapsed": 14,
     "status": "ok",
     "timestamp": 1731748158876,
     "user": {
      "displayName": "Mus-ab Umama",
      "userId": "06308630355882102992"
     },
     "user_tz": -330
    },
    "id": "NQ07Vajlj4iK",
    "outputId": "c50159f5-26e6-4a42-f3ca-1af2e5f879f5"
   },
   "outputs": [
    {
     "name": "stdout",
     "output_type": "stream",
     "text": [
      "                precision    recall  f1-score   support\n",
      "\n",
      " Head Rotation       0.00      0.00      0.00         0\n",
      "    Head Turns       0.00      0.00      0.00         0\n",
      "Neck Extension       0.00      0.00      0.00         0\n",
      "Neck Side bend       0.00      0.00      0.00         0\n",
      "  Neck Stretch       1.00      0.04      0.08       279\n",
      "Shoulder Shrug       0.13      0.14      0.13        56\n",
      "\n",
      "      accuracy                           0.06       335\n",
      "     macro avg       0.19      0.03      0.04       335\n",
      "  weighted avg       0.85      0.06      0.09       335\n",
      "\n"
     ]
    },
    {
     "name": "stderr",
     "output_type": "stream",
     "text": [
      "/usr/local/lib/python3.10/dist-packages/sklearn/metrics/_classification.py:1531: UndefinedMetricWarning: Recall is ill-defined and being set to 0.0 in labels with no true samples. Use `zero_division` parameter to control this behavior.\n",
      "  _warn_prf(average, modifier, f\"{metric.capitalize()} is\", len(result))\n",
      "/usr/local/lib/python3.10/dist-packages/sklearn/metrics/_classification.py:1531: UndefinedMetricWarning: Recall is ill-defined and being set to 0.0 in labels with no true samples. Use `zero_division` parameter to control this behavior.\n",
      "  _warn_prf(average, modifier, f\"{metric.capitalize()} is\", len(result))\n",
      "/usr/local/lib/python3.10/dist-packages/sklearn/metrics/_classification.py:1531: UndefinedMetricWarning: Recall is ill-defined and being set to 0.0 in labels with no true samples. Use `zero_division` parameter to control this behavior.\n",
      "  _warn_prf(average, modifier, f\"{metric.capitalize()} is\", len(result))\n"
     ]
    }
   ],
   "source": [
    "from sklearn.metrics import classification_report\n",
    "\n",
    "report = classification_report(true_classes, predicted_classes, target_names=label_encoder.classes_)\n",
    "print(report)"
   ]
  }
 ],
 "metadata": {
  "accelerator": "TPU",
  "colab": {
   "authorship_tag": "ABX9TyOt0U+KMveES4ChvzdQm55E",
   "gpuType": "V28",
   "mount_file_id": "1Zl8OI1KI8jtZSQCGeeFs5ms6iRK2GhYT",
   "provenance": []
  },
  "kernelspec": {
   "display_name": "Python 3",
   "name": "python3"
  },
  "language_info": {
   "name": "python"
  }
 },
 "nbformat": 4,
 "nbformat_minor": 0
}
