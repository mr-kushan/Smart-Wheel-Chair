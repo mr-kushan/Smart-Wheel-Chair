{
  "nbformat": 4,
  "nbformat_minor": 0,
  "metadata": {
    "colab": {
      "provenance": []
    },
    "kernelspec": {
      "name": "python3",
      "display_name": "Python 3"
    },
    "language_info": {
      "name": "python"
    }
  },
  "cells": [
    {
      "cell_type": "markdown",
      "source": [
        "Synthetic data generation for personalized neck exercise recommendation."
      ],
      "metadata": {
        "id": "z9xtSSdklw8l"
      }
    },
    {
      "cell_type": "code",
      "source": [
        "import pandas as pd\n",
        "import random"
      ],
      "metadata": {
        "id": "bgWhh1_b5627"
      },
      "execution_count": 1,
      "outputs": []
    },
    {
      "cell_type": "code",
      "source": [
        "exercise_data = {\n",
        "    \"Paraplegia\": {\n",
        "        \"Beginner\": [\n",
        "            {\n",
        "                \"ExerciseID\": 1,\n",
        "                \"ExerciseName\": \"Chin Tucks\",\n",
        "                \"DifficultyLevel\": \"Easy\"\n",
        "            }\n",
        "        ],\n",
        "        \"Intermediate\": [\n",
        "            {\n",
        "                \"ExerciseID\": 2,\n",
        "                \"ExerciseName\": \"Neck Rotation\",\n",
        "                \"DifficultyLevel\": \"Medium\"\n",
        "            },\n",
        "            {\n",
        "                \"ExerciseID\": 9,\n",
        "                \"ExerciseName\": \"Shoulder Shrugs\",\n",
        "                \"DifficultyLevel\": \"Medium\"\n",
        "            }\n",
        "        ]\n",
        "    },\n",
        "    \"Quadriplegia\": {\n",
        "        \"Beginner\": [\n",
        "            {\n",
        "                \"ExerciseID\": 8,\n",
        "                \"ExerciseName\": \"Neck Side Stretch\",\n",
        "                \"DifficultyLevel\": \"Easy\"\n",
        "            }\n",
        "        ],\n",
        "        \"Intermediate\": [\n",
        "            {\n",
        "                \"ExerciseID\": 5,\n",
        "                \"ExerciseName\": \"Neck Isometrics\",\n",
        "                \"DifficultyLevel\": \"Medium\"\n",
        "            }\n",
        "        ]\n",
        "    },\n",
        "    \"Spinal Cord Injury\": {\n",
        "        \"Beginner\": [\n",
        "            {\n",
        "                \"ExerciseID\": 4,\n",
        "                \"ExerciseName\": \"Neck Flexion\",\n",
        "                \"DifficultyLevel\": \"Easy\"\n",
        "            }\n",
        "        ],\n",
        "        \"Intermediate\": [\n",
        "            {\n",
        "                \"ExerciseID\": 6,\n",
        "                \"ExerciseName\": \"Seated Head Turns\",\n",
        "                \"DifficultyLevel\": \"Medium\"\n",
        "            }\n",
        "        ],\n",
        "        \"Advanced\": [\n",
        "            {\n",
        "                \"ExerciseID\": 7,\n",
        "                \"ExerciseName\": \"Neck Side Bend\",\n",
        "                \"DifficultyLevel\": \"Medium\"\n",
        "            }\n",
        "        ]\n",
        "    },\n",
        "    \"Amputation\": {\n",
        "        \"Beginner\": [\n",
        "            {\n",
        "                \"ExerciseID\": 3,\n",
        "                \"ExerciseName\": \"Neck Extension\",\n",
        "                \"DifficultyLevel\": \"Easy\"\n",
        "            }\n",
        "        ]\n",
        "    },\n",
        "    \"Multiple Sclerosis\": {\n",
        "        \"Beginner\": [\n",
        "            {\n",
        "                \"ExerciseID\": 4,\n",
        "                \"ExerciseName\": \"Neck Flexion\",\n",
        "                \"DifficultyLevel\": \"Easy\"\n",
        "            }\n",
        "        ]\n",
        "    }\n",
        "}"
      ],
      "metadata": {
        "id": "XhunmZWBliFh"
      },
      "execution_count": 2,
      "outputs": []
    },
    {
      "cell_type": "code",
      "source": [
        "injuries = list(exercise_data.keys())\n",
        "available_fitness_levels = [\"Beginner\", \"Intermediate\", \"Advanced\"]\n",
        "n_records = 1000\n",
        "user_ids = list(range(1, n_records + 1))\n",
        "genders = ['Male', 'Female']\n",
        "\n",
        "\n",
        "data = []\n",
        "for i in range(n_records):\n",
        "    injury = random.choice(injuries)\n",
        "    fitness_levels_for_injury = list(exercise_data[injury].keys())\n",
        "    fitness_level = random.choice(fitness_levels_for_injury)\n",
        "    exercise = random.choice(exercise_data[injury][fitness_level])\n",
        "    data.append({\n",
        "        'UserID': user_ids[i],\n",
        "        'Age': random.randint(18, 90),\n",
        "        'Gender': random.choice(genders),\n",
        "        'Injury': injury,\n",
        "        'Fitness Level': fitness_level,\n",
        "        'ExerciseID': exercise[\"ExerciseID\"],\n",
        "        'Exercise Name': exercise[\"ExerciseName\"]\n",
        "    })"
      ],
      "metadata": {
        "id": "zRKl24AilndB"
      },
      "execution_count": 3,
      "outputs": []
    },
    {
      "cell_type": "code",
      "source": [
        "df = pd.DataFrame(data)\n",
        "\n",
        "df.to_csv('exercise_dataset.csv', index=False)"
      ],
      "metadata": {
        "id": "ZCk_Ljpclr68"
      },
      "execution_count": 4,
      "outputs": []
    },
    {
      "cell_type": "code",
      "source": [
        "print(df.head())"
      ],
      "metadata": {
        "colab": {
          "base_uri": "https://localhost:8080/"
        },
        "id": "-AEABdjBko05",
        "outputId": "f07c3875-77f7-4d05-ea45-f44c5c5ba870"
      },
      "execution_count": 5,
      "outputs": [
        {
          "output_type": "stream",
          "name": "stdout",
          "text": [
            "   UserID  Age  Gender              Injury Fitness Level  ExerciseID  \\\n",
            "0       1   55  Female        Quadriplegia      Beginner           8   \n",
            "1       2   55    Male  Multiple Sclerosis      Beginner           4   \n",
            "2       3   86    Male        Quadriplegia  Intermediate           5   \n",
            "3       4   51  Female          Paraplegia      Beginner           1   \n",
            "4       5   43    Male  Spinal Cord Injury  Intermediate           6   \n",
            "\n",
            "       Exercise Name  \n",
            "0  Neck Side Stretch  \n",
            "1       Neck Flexion  \n",
            "2    Neck Isometrics  \n",
            "3         Chin Tucks  \n",
            "4  Seated Head Turns  \n"
          ]
        }
      ]
    }
  ]
}