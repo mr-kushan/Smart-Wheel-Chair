{
 "cells": [
  {
   "cell_type": "code",
   "execution_count": 25,
   "metadata": {},
   "outputs": [],
   "source": [
    "import xgboost as xgb\n",
    "import numpy as np\n",
    "import pandas as pd\n",
    "from scipy.stats import rankdata"
   ]
  },
  {
   "cell_type": "code",
   "execution_count": 26,
   "metadata": {},
   "outputs": [],
   "source": [
    "\n",
    "# Load the model\n",
    "rank_model = xgb.Booster()\n",
    "rank_model.load_model(\"xgboost_score_model.json\")"
   ]
  },
  {
   "cell_type": "code",
   "execution_count": 27,
   "metadata": {},
   "outputs": [],
   "source": [
    "# Normalize each feature (column) using Min-Max scaling\n",
    "def custom_normalization(features):\n",
    "    # Initialize an empty list to hold the normalized data\n",
    "    normalized_data = np.zeros_like(features, dtype=float)\n",
    "    total_distance = features[0]\n",
    "    num_of_wps = features[1]\n",
    "    max_score  = num_of_wps*10\n",
    "    max_num_of_wps = total_distance//10\n",
    "\n",
    "    for i in range(6):\n",
    "        feature_val = features[i]\n",
    "        \n",
    "        # If it's distance or the battery level, divide by 100\n",
    "        if i == 0 or i == 5:\n",
    "            normalized_data[i] = feature_val / 100\n",
    "            \n",
    "        elif i == 1:\n",
    "            normalized_data[i] = feature_val / max_num_of_wps\n",
    "        else:\n",
    "                      \n",
    "            # Normalize the feature to the range [0, 1]\n",
    "            if max_score > 0:  # Avoid division by zero if all values are the same\n",
    "                normalized_data[i] = feature_val / max_score\n",
    "            else:\n",
    "                normalized_data[i] = 0  # If all values are the same, assign 0 (or handle as needed)\n",
    "    \n",
    "    return np.round(normalized_data, 4)\n",
    "\n",
    "def normalize_five_feature_sets(five_feature_sets):\n",
    "    normalized_data = np.zeros_like(five_feature_sets, dtype=float)\n",
    "    \n",
    "    for i in range(5):\n",
    "        feature_set = five_feature_sets[i]\n",
    "        \n",
    "        normalized_data[i] = custom_normalization(feature_set)\n",
    "    \n",
    "    return normalized_data"
   ]
  },
  {
   "cell_type": "code",
   "execution_count": 28,
   "metadata": {},
   "outputs": [
    {
     "data": {
      "text/html": [
       "<div>\n",
       "<style scoped>\n",
       "    .dataframe tbody tr th:only-of-type {\n",
       "        vertical-align: middle;\n",
       "    }\n",
       "\n",
       "    .dataframe tbody tr th {\n",
       "        vertical-align: top;\n",
       "    }\n",
       "\n",
       "    .dataframe thead th {\n",
       "        text-align: right;\n",
       "    }\n",
       "</style>\n",
       "<table border=\"1\" class=\"dataframe\">\n",
       "  <thead>\n",
       "    <tr style=\"text-align: right;\">\n",
       "      <th></th>\n",
       "      <th>Batt</th>\n",
       "      <th>Dist</th>\n",
       "      <th>Wpts</th>\n",
       "      <th>Emot</th>\n",
       "      <th>Comf</th>\n",
       "      <th>Traf</th>\n",
       "    </tr>\n",
       "  </thead>\n",
       "  <tbody>\n",
       "    <tr>\n",
       "      <th>0</th>\n",
       "      <td>0.28</td>\n",
       "      <td>1.0000</td>\n",
       "      <td>0.75</td>\n",
       "      <td>0.25</td>\n",
       "      <td>0.750</td>\n",
       "      <td>0.43</td>\n",
       "    </tr>\n",
       "    <tr>\n",
       "      <th>1</th>\n",
       "      <td>0.37</td>\n",
       "      <td>0.6667</td>\n",
       "      <td>0.55</td>\n",
       "      <td>0.75</td>\n",
       "      <td>0.000</td>\n",
       "      <td>0.43</td>\n",
       "    </tr>\n",
       "    <tr>\n",
       "      <th>2</th>\n",
       "      <td>0.31</td>\n",
       "      <td>0.6667</td>\n",
       "      <td>0.50</td>\n",
       "      <td>0.50</td>\n",
       "      <td>0.500</td>\n",
       "      <td>0.43</td>\n",
       "    </tr>\n",
       "    <tr>\n",
       "      <th>3</th>\n",
       "      <td>0.32</td>\n",
       "      <td>0.6667</td>\n",
       "      <td>0.80</td>\n",
       "      <td>0.50</td>\n",
       "      <td>0.250</td>\n",
       "      <td>0.43</td>\n",
       "    </tr>\n",
       "    <tr>\n",
       "      <th>4</th>\n",
       "      <td>0.69</td>\n",
       "      <td>0.6667</td>\n",
       "      <td>0.25</td>\n",
       "      <td>0.50</td>\n",
       "      <td>0.375</td>\n",
       "      <td>0.43</td>\n",
       "    </tr>\n",
       "  </tbody>\n",
       "</table>\n",
       "</div>"
      ],
      "text/plain": [
       "   Batt    Dist  Wpts  Emot   Comf  Traf\n",
       "0  0.28  1.0000  0.75  0.25  0.750  0.43\n",
       "1  0.37  0.6667  0.55  0.75  0.000  0.43\n",
       "2  0.31  0.6667  0.50  0.50  0.500  0.43\n",
       "3  0.32  0.6667  0.80  0.50  0.250  0.43\n",
       "4  0.69  0.6667  0.25  0.50  0.375  0.43"
      ]
     },
     "execution_count": 28,
     "metadata": {},
     "output_type": "execute_result"
    }
   ],
   "source": [
    "data = [\n",
    "    [28, 2, 15,  5, 15, 43],\n",
    "    [37, 2, 11, 15,  0, 43],\n",
    "    [31, 2, 10, 10, 10, 43],\n",
    "    [32, 2, 16, 10,  5, 43],\n",
    "    [69, 4, 10, 20, 15, 43],\n",
    "]\n",
    "\n",
    "nrom_data = normalize_five_feature_sets(data)\n",
    "\n",
    "# Set column names\n",
    "column_names = [\"Batt\", \"Dist\", \"Wpts\", \"Emot\", \"Comf\", \"Traf\"]\n",
    "\n",
    "# Convert to DataFrame\n",
    "dataframe = pd.DataFrame(nrom_data, columns=column_names)\n",
    "dataframe"
   ]
  },
  {
   "cell_type": "code",
   "execution_count": 29,
   "metadata": {},
   "outputs": [
    {
     "name": "stdout",
     "output_type": "stream",
     "text": [
      "Predicted Scores: [-1.4072024  1.072507   0.3639794  1.0762063 -1.9035856]\n"
     ]
    }
   ],
   "source": [
    "# Create DMatrix\n",
    "dtest = xgb.DMatrix(dataframe)\n",
    "\n",
    "# Predict scores\n",
    "y_pred = rank_model.predict(dtest)\n",
    "\n",
    "# Print the predicted scores\n",
    "print(\"Predicted Scores:\", y_pred)\n"
   ]
  },
  {
   "cell_type": "code",
   "execution_count": 33,
   "metadata": {},
   "outputs": [
    {
     "name": "stdout",
     "output_type": "stream",
     "text": [
      "Group 1:\n",
      "Predicted Scores: [-1.4072024  1.072507   0.3639794  1.0762063 -1.9035856]\n",
      "Predicted Ranks: [4 2 3 1 5]\n",
      "\n"
     ]
    }
   ],
   "source": [
    "# Number of items per query group\n",
    "group_size = 5  # Adjust this to match your data\n",
    "\n",
    "# Rank predictions for each query group\n",
    "num_groups = len(y_pred) // group_size\n",
    "\n",
    "for i in range(num_groups):\n",
    "    start = i * group_size\n",
    "    end = (i + 1) * group_size\n",
    "    \n",
    "    # Get predictions for the current group\n",
    "    query_results = y_pred[start:end]\n",
    "    \n",
    "    # Rank in descending order\n",
    "    ranked_positions = rankdata(-query_results, method=\"ordinal\")\n",
    "    \n",
    "    print(f\"Group {i + 1}:\")\n",
    "    print(\"Predicted Scores:\", query_results)\n",
    "    print(\"Predicted Ranks:\", ranked_positions)\n",
    "    print()\n"
   ]
  },
  {
   "cell_type": "code",
   "execution_count": 31,
   "metadata": {},
   "outputs": [],
   "source": [
    "\n",
    "# Define the penalty or reward calculation for each feature\n",
    "def calculate_distance_penalty(total_distance, battery_level):\n",
    "    # Define how the distance and battery level affect the penalty\n",
    "    # Assuming the battery level reduces penalty when higher\n",
    "    return -4*(total_distance**2) * (1.1 - battery_level) # Example of distance penalty with battery adjustment\n",
    "\n",
    "def calculate_waypoint_penalty(number_of_waypoints):\n",
    "    # Negative log transformation for waypoints to penalize high waypoint count\n",
    "    return -np.log(number_of_waypoints + 1)**3  # Penalty for each waypoint\n",
    "\n",
    "def calculate_emotion_benefit(emotion_score):\n",
    "    # If emotion_score is lower than 0.4, return a negative value\n",
    "    if emotion_score < 0.4:\n",
    "        return -(1.1-emotion_score)**2  # Penalty for lower emotion score\n",
    "    else:\n",
    "        return (emotion_score*1.5)  # Reward for higher emotion score\n",
    "\n",
    "def calculate_comfort_benefit(comfort_score):\n",
    "    # Comfort score is positive, so we give a benefit to higher comfort scores\n",
    "    if comfort_score < 0.4:\n",
    "        return -(1.1-comfort_score)  # Penalty for lower emotion score\n",
    "    else:\n",
    "        return  comfort_score # Reward for higher comfort score\n",
    "\n",
    "def calculate_traffic_penalty(traffic_score):\n",
    "    # Traffic score is penalized, so we penalize higher traffic scores\n",
    "    return -2*traffic_score**2  # Exponential penalty for traffic, adjust factor as needed\n",
    "\n",
    "def calculate_path_score(feature_set):\n",
    "    total_distance, number_of_waypoints, emotion_score, comfort_score, traffic_score, battery_level = feature_set\n",
    "    \n",
    "    # Calculate the penalty or reward for each feature\n",
    "    distance_penalty = calculate_distance_penalty(total_distance, battery_level)\n",
    "    waypoint_penalty = calculate_waypoint_penalty(number_of_waypoints)\n",
    "    emotion_benefit = calculate_emotion_benefit(emotion_score)\n",
    "    comfort_benefit = calculate_comfort_benefit(comfort_score)\n",
    "    traffic_penalty = calculate_traffic_penalty(traffic_score)\n",
    "    \n",
    "    # Combine all features using their respective weights\n",
    "    score = (distance_penalty +\n",
    "             waypoint_penalty +\n",
    "             emotion_benefit +\n",
    "             comfort_benefit +\n",
    "             traffic_penalty)\n",
    "    \n",
    "    return np.round(score, 8)\n"
   ]
  },
  {
   "cell_type": "code",
   "execution_count": 32,
   "metadata": {},
   "outputs": [
    {
     "name": "stdout",
     "output_type": "stream",
     "text": [
      "Path 1 Score: -1.39313665\n",
      "Path 2 Score: 1.07479607\n",
      "Path 3 Score: 0.35914007\n",
      "Path 4 Score: 1.16725607\n",
      "Path 5 Score: -1.91300993\n"
     ]
    }
   ],
   "source": [
    "# Print path scores\n",
    "for i in range(len(norm_data)):\n",
    "    print(f\"Path {i+1} Score: {calculate_path_score(norm_data[i])}\")"
   ]
  }
 ],
 "metadata": {
  "kernelspec": {
   "display_name": "swc",
   "language": "python",
   "name": "python3"
  },
  "language_info": {
   "name": "python",
   "version": "3.10.15"
  }
 },
 "nbformat": 4,
 "nbformat_minor": 2
}
