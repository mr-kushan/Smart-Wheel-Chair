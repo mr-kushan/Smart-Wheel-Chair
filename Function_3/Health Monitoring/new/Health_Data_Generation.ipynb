{
  "cells": [
    {
      "cell_type": "markdown",
      "metadata": {
        "id": "6ZwebVRzTcFj"
      },
      "source": [
        "Synthetic data generation for heart attack risk prediction."
      ]
    },
    {
      "cell_type": "code",
      "execution_count": 1,
      "metadata": {
        "id": "A6OFUc6tSZ5m"
      },
      "outputs": [],
      "source": [
        "import pandas as pd\n",
        "import numpy as np"
      ]
    },
    {
      "cell_type": "code",
      "execution_count": 2,
      "metadata": {
        "id": "lrmRNb8yTKRt"
      },
      "outputs": [],
      "source": [
        "np.random.seed(42)\n",
        "\n",
        "num_records = 20000\n",
        "high_risk_count = num_records // 2\n",
        "low_risk_count = num_records // 2"
      ]
    },
    {
      "cell_type": "code",
      "execution_count": 3,
      "metadata": {
        "id": "uz0zt1-tTNlA"
      },
      "outputs": [],
      "source": [
        "heart_rate_high = np.random.normal(loc=95, scale=10, size=high_risk_count)\n",
        "heart_rate_low = np.random.normal(loc=70, scale=10, size=low_risk_count)\n",
        "\n",
        "oxygen_levels_high = np.random.normal(loc=88, scale=5, size=high_risk_count)\n",
        "oxygen_levels_low = np.random.normal(loc=98, scale=2, size=low_risk_count)\n",
        "\n",
        "body_temp_high = np.random.normal(loc=100.5, scale=1, size=high_risk_count)\n",
        "body_temp_low = np.random.normal(loc=98.6, scale=0.5, size=low_risk_count)"
      ]
    },
    {
      "cell_type": "code",
      "execution_count": 4,
      "metadata": {
        "id": "djfYLMVATPog"
      },
      "outputs": [],
      "source": [
        "heart_rate = np.concatenate([heart_rate_high, heart_rate_low])\n",
        "oxygen_levels = np.concatenate([oxygen_levels_high, oxygen_levels_low])\n",
        "body_temp = np.concatenate([body_temp_high, body_temp_low])\n",
        "\n",
        "risk_category = np.array(['High Risk'] * high_risk_count + ['Low Risk'] * low_risk_count)"
      ]
    },
    {
      "cell_type": "code",
      "execution_count": 5,
      "metadata": {
        "id": "Y7yNs91pTTC6"
      },
      "outputs": [],
      "source": [
        "data = pd.DataFrame({\n",
        "    'Heart Rate': heart_rate,\n",
        "    'Oxygen Level': oxygen_levels,\n",
        "    'Body Temperature': body_temp,\n",
        "    'Heart Attack Risk': risk_category\n",
        "})\n",
        "\n",
        "data = data.sample(frac=1).reset_index(drop=True)\n",
        "\n",
        "data.to_csv('heart_attack_prediction_dataset.csv', index=False)"
      ]
    },
    {
      "cell_type": "code",
      "execution_count": 6,
      "metadata": {
        "colab": {
          "base_uri": "https://localhost:8080/"
        },
        "id": "a7m7bzSTTXF8",
        "outputId": "3b8861b3-bac0-4924-c91f-1cf0b88fb087"
      },
      "outputs": [
        {
          "name": "stdout",
          "output_type": "stream",
          "text": [
            "   Heart Rate  Oxygen Level  Body Temperature Heart Attack Risk\n",
            "0  101.865749     96.476418         98.234058          Low Risk\n",
            "1   67.382193     98.229872         99.267701          Low Risk\n",
            "2   62.290010    100.313704         98.145910          Low Risk\n",
            "3   76.288138     95.066348         98.305198          Low Risk\n",
            "4   74.003683     97.772355         98.136160          Low Risk\n"
          ]
        }
      ],
      "source": [
        "print(data.head())"
      ]
    }
  ],
  "metadata": {
    "colab": {
      "provenance": []
    },
    "kernelspec": {
      "display_name": "Python 3",
      "name": "python3"
    },
    "language_info": {
      "codemirror_mode": {
        "name": "ipython",
        "version": 3
      },
      "file_extension": ".py",
      "mimetype": "text/x-python",
      "name": "python",
      "nbconvert_exporter": "python",
      "pygments_lexer": "ipython3",
      "version": "3.10.11"
    }
  },
  "nbformat": 4,
  "nbformat_minor": 0
}
