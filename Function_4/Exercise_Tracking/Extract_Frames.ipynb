{
 "cells": [
  {
   "cell_type": "code",
   "execution_count": null,
   "metadata": {
    "executionInfo": {
     "elapsed": 800,
     "status": "ok",
     "timestamp": 1731582741656,
     "user": {
      "displayName": "Mus-ab Umama",
      "userId": "06308630355882102992"
     },
     "user_tz": -330
    },
    "id": "EwhTA_5zWjst"
   },
   "outputs": [],
   "source": [
    "import cv2\n",
    "import os\n",
    "\n",
    "def extract_frames_from_video(video_path, output_folder, frame_rate=1): # extract frames from a single video\n",
    "    os.makedirs(output_folder, exist_ok=True) # output folder to save frames\n",
    "\n",
    "    video = cv2.VideoCapture(video_path) # read video file\n",
    "    success, image = video.read()\n",
    "    count = 0  # frames processed\n",
    "    frame_id = 0  # frames saved\n",
    "\n",
    "    while success: # read frames from video\n",
    "\n",
    "        if count % frame_rate == 0:\n",
    "\n",
    "            frame_filename = os.path.join(output_folder, f\"frame_{frame_id}.jpg\")\n",
    "            cv2.imwrite(frame_filename, image)\n",
    "            frame_id += 1 \n",
    "\n",
    "        success, image = video.read()\n",
    "        count += 1\n",
    "\n",
    "    video.release()\n",
    "\n",
    "def process_videos_in_folder(input_folder, output_folder, frame_rate=1): # extract frames from all videos in a folder\n",
    "\n",
    "    for exercise_folder in os.listdir(input_folder): # iterate in exercise folders in input folder\n",
    "        exercise_path = os.path.join(input_folder, exercise_folder)\n",
    "\n",
    "        if os.path.isdir(exercise_path):\n",
    "           \n",
    "            exercise_output_folder = os.path.join(output_folder, exercise_folder)\n",
    "            os.makedirs(exercise_output_folder, exist_ok=True)\n",
    "\n",
    "            for video_file in os.listdir(exercise_path): \n",
    "                video_path = os.path.join(exercise_path, video_file)\n",
    "\n",
    "                if video_path.endswith(('.mp4', '.avi', '.mov', '.mkv')): # check if file is a video\n",
    "                    video_output_folder = os.path.join(exercise_output_folder, os.path.splitext(video_file)[0])\n",
    "                    os.makedirs(video_output_folder, exist_ok=True) # create folder to save frames\n",
    "\n",
    "                    print(f\"Extracting frames from {video_file}...\")\n",
    "                    extract_frames_from_video(video_path, video_output_folder, frame_rate)\n",
    "                    print(f\"Frames saved to {video_output_folder}\")\n"
   ]
  },
  {
   "cell_type": "code",
   "execution_count": null,
   "metadata": {
    "colab": {
     "base_uri": "https://localhost:8080/"
    },
    "executionInfo": {
     "elapsed": 72809,
     "status": "ok",
     "timestamp": 1731582814463,
     "user": {
      "displayName": "Mus-ab Umama",
      "userId": "06308630355882102992"
     },
     "user_tz": -330
    },
    "id": "q_xBNar1XB8J",
    "outputId": "8094d60a-7a1f-4f17-8f9b-ecbd0a0c44ec"
   },
   "outputs": [
    {
     "name": "stdout",
     "output_type": "stream",
     "text": [
      "Extracting frames from Head Turn 1.mp4...\n",
      "Frames saved to /content/drive/MyDrive/Exercise Tracking/Extracted Exercise Frames/Head Turns/Head Turn 1\n",
      "Extracting frames from Head Turn 2.mp4...\n",
      "Frames saved to /content/drive/MyDrive/Exercise Tracking/Extracted Exercise Frames/Head Turns/Head Turn 2\n",
      "Extracting frames from Head Turn 3.mp4...\n",
      "Frames saved to /content/drive/MyDrive/Exercise Tracking/Extracted Exercise Frames/Head Turns/Head Turn 3\n",
      "Extracting frames from Head Rotation 1.mp4...\n",
      "Frames saved to /content/drive/MyDrive/Exercise Tracking/Extracted Exercise Frames/Head Rotation/Head Rotation 1\n",
      "Extracting frames from Head Rotation 2.mp4...\n",
      "Frames saved to /content/drive/MyDrive/Exercise Tracking/Extracted Exercise Frames/Head Rotation/Head Rotation 2\n",
      "Extracting frames from Head Rotation 3.mp4...\n",
      "Frames saved to /content/drive/MyDrive/Exercise Tracking/Extracted Exercise Frames/Head Rotation/Head Rotation 3\n",
      "Extracting frames from Neck Side Bend 1.mp4...\n",
      "Frames saved to /content/drive/MyDrive/Exercise Tracking/Extracted Exercise Frames/Neck Side bend/Neck Side Bend 1\n",
      "Extracting frames from Neck Side Bend 2.mp4...\n",
      "Frames saved to /content/drive/MyDrive/Exercise Tracking/Extracted Exercise Frames/Neck Side bend/Neck Side Bend 2\n",
      "Extracting frames from Neck Extension 1 .mp4...\n",
      "Frames saved to /content/drive/MyDrive/Exercise Tracking/Extracted Exercise Frames/Neck Extension/Neck Extension 1 \n",
      "Extracting frames from Neck Flexion 1.mp4...\n",
      "Frames saved to /content/drive/MyDrive/Exercise Tracking/Extracted Exercise Frames/Neck Flexion/Neck Flexion 1\n",
      "Extracting frames from Shoulder Shrug 1.mp4...\n",
      "Frames saved to /content/drive/MyDrive/Exercise Tracking/Extracted Exercise Frames/Shoulder Shrug/Shoulder Shrug 1\n",
      "Extracting frames from Shoulder Shrug 2.mp4...\n",
      "Frames saved to /content/drive/MyDrive/Exercise Tracking/Extracted Exercise Frames/Shoulder Shrug/Shoulder Shrug 2\n",
      "Extracting frames from Neck Stretch 1.mp4...\n",
      "Frames saved to /content/drive/MyDrive/Exercise Tracking/Extracted Exercise Frames/Neck Stretch/Neck Stretch 1\n",
      "Extracting frames from Neck Stretch 2.mp4...\n",
      "Frames saved to /content/drive/MyDrive/Exercise Tracking/Extracted Exercise Frames/Neck Stretch/Neck Stretch 2\n"
     ]
    }
   ],
   "source": [
    "input_folder = '/content/drive/MyDrive/Exercise Tracking/Exercises' # folder containing exercise videos\n",
    "output_folder = '/content/drive/MyDrive/Exercise Tracking/Extracted Exercise Frames' # folder to save extracted frames\n",
    "frame_rate = 5 # save 1 frame every 5 frames\n",
    "\n",
    "process_videos_in_folder(input_folder, output_folder, frame_rate)"
   ]
  }
 ],
 "metadata": {
  "accelerator": "GPU",
  "colab": {
   "authorship_tag": "ABX9TyOd7pybWRXHQYujqiyOzkFk",
   "gpuType": "T4",
   "mount_file_id": "1F_EscpogzPzLkluVy3kp-1kegCSjp5RB",
   "provenance": []
  },
  "kernelspec": {
   "display_name": "Python 3",
   "name": "python3"
  },
  "language_info": {
   "name": "python"
  }
 },
 "nbformat": 4,
 "nbformat_minor": 0
}
