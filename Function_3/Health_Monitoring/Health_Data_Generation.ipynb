{
  "nbformat": 4,
  "nbformat_minor": 0,
  "metadata": {
    "colab": {
      "provenance": []
    },
    "kernelspec": {
      "name": "python3",
      "display_name": "Python 3"
    },
    "language_info": {
      "name": "python"
    }
  },
  "cells": [
    {
      "cell_type": "markdown",
      "source": [
        "Synthetic data generation for heart attack risk prediction."
      ],
      "metadata": {
        "id": "6ZwebVRzTcFj"
      }
    },
    {
      "cell_type": "code",
      "execution_count": null,
      "metadata": {
        "id": "A6OFUc6tSZ5m"
      },
      "outputs": [],
      "source": [
        "import pandas as pd\n",
        "import numpy as np"
      ]
    },
    {
      "cell_type": "code",
      "source": [
        "np.random.seed(42)\n",
        "\n",
        "num_records = 20000\n",
        "high_risk_count = num_records // 2\n",
        "low_risk_count = num_records // 2"
      ],
      "metadata": {
        "id": "lrmRNb8yTKRt"
      },
      "execution_count": null,
      "outputs": []
    },
    {
      "cell_type": "code",
      "source": [
        "heart_rate_high = np.random.normal(loc=95, scale=10, size=high_risk_count)\n",
        "heart_rate_low = np.random.normal(loc=70, scale=10, size=low_risk_count)\n",
        "\n",
        "oxygen_levels_high = np.random.normal(loc=88, scale=5, size=high_risk_count)\n",
        "oxygen_levels_low = np.random.normal(loc=98, scale=2, size=low_risk_count)\n",
        "\n",
        "systolic_bp_high = np.random.normal(loc=150, scale=10, size=high_risk_count)\n",
        "systolic_bp_low = np.random.normal(loc=120, scale=10, size=low_risk_count)\n",
        "\n",
        "diastolic_bp_high = np.random.normal(loc=95, scale=5, size=high_risk_count)\n",
        "diastolic_bp_low = np.random.normal(loc=80, scale=5, size=low_risk_count)\n",
        "\n",
        "body_temp_high = np.random.normal(loc=100.5, scale=1, size=high_risk_count)\n",
        "body_temp_low = np.random.normal(loc=98.6, scale=0.5, size=low_risk_count)"
      ],
      "metadata": {
        "id": "uz0zt1-tTNlA"
      },
      "execution_count": null,
      "outputs": []
    },
    {
      "cell_type": "code",
      "source": [
        "heart_rate = np.concatenate([heart_rate_high, heart_rate_low])\n",
        "oxygen_levels = np.concatenate([oxygen_levels_high, oxygen_levels_low])\n",
        "systolic_bp = np.concatenate([systolic_bp_high, systolic_bp_low])\n",
        "diastolic_bp = np.concatenate([diastolic_bp_high, diastolic_bp_low])\n",
        "body_temp = np.concatenate([body_temp_high, body_temp_low])\n",
        "\n",
        "risk_category = np.array(['High Risk'] * high_risk_count + ['Low Risk'] * low_risk_count)"
      ],
      "metadata": {
        "id": "djfYLMVATPog"
      },
      "execution_count": null,
      "outputs": []
    },
    {
      "cell_type": "code",
      "source": [
        "data = pd.DataFrame({\n",
        "    'Heart Rate': heart_rate,\n",
        "    'Oxygen Level': oxygen_levels,\n",
        "    'Systolic BP': systolic_bp,\n",
        "    'Diastolic BP': diastolic_bp,\n",
        "    'Body Temperature': body_temp,\n",
        "    'Heart Attack Risk': risk_category\n",
        "})\n",
        "\n",
        "data = data.sample(frac=1).reset_index(drop=True)\n",
        "\n",
        "data.to_csv('heart_attack_prediction_dataset.csv', index=False)"
      ],
      "metadata": {
        "id": "Y7yNs91pTTC6"
      },
      "execution_count": null,
      "outputs": []
    },
    {
      "cell_type": "code",
      "source": [
        "print(data.head())"
      ],
      "metadata": {
        "colab": {
          "base_uri": "https://localhost:8080/"
        },
        "id": "a7m7bzSTTXF8",
        "outputId": "3b8861b3-bac0-4924-c91f-1cf0b88fb087"
      },
      "execution_count": null,
      "outputs": [
        {
          "output_type": "stream",
          "name": "stdout",
          "text": [
            "   Heart Rate  Oxygen Level  Systolic BP  Diastolic BP  Body Temperature  \\\n",
            "0   94.057309     82.288090   148.520782     96.054210        101.393674   \n",
            "1   86.218737     99.350164   104.080648     83.746346         99.342905   \n",
            "2   98.358473     88.627742   161.040283     98.157421        100.486419   \n",
            "3   70.394968     98.654891   117.246391     70.330055         98.121317   \n",
            "4   62.798371     95.317593   117.201748     75.925147         98.855159   \n",
            "\n",
            "  Heart Attack Risk  \n",
            "0         High Risk  \n",
            "1          Low Risk  \n",
            "2         High Risk  \n",
            "3          Low Risk  \n",
            "4          Low Risk  \n"
          ]
        }
      ]
    }
  ]
}