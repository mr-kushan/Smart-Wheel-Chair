{
  "cells": [
    {
      "cell_type": "markdown",
      "source": [
        "Exercise recommendation model 2"
      ],
      "metadata": {
        "id": "Tex4GHZGw4gQ"
      }
    },
    {
      "cell_type": "code",
      "source": [
        "from google.colab import drive\n",
        "drive.mount('/content/drive')"
      ],
      "metadata": {
        "colab": {
          "base_uri": "https://localhost:8080/"
        },
        "id": "JO8idB0_xHz2",
        "outputId": "37fa0f43-2825-4aa9-b695-8a99d0533bb2"
      },
      "execution_count": 20,
      "outputs": [
        {
          "output_type": "stream",
          "name": "stdout",
          "text": [
            "Drive already mounted at /content/drive; to attempt to forcibly remount, call drive.mount(\"/content/drive\", force_remount=True).\n"
          ]
        }
      ]
    },
    {
      "cell_type": "code",
      "execution_count": 21,
      "metadata": {
        "id": "Ltop3exwwVah"
      },
      "outputs": [],
      "source": [
        "import pandas as pd\n",
        "import pickle\n",
        "from sklearn.preprocessing import MinMaxScaler\n",
        "from sklearn.metrics.pairwise import cosine_similarity"
      ]
    },
    {
      "cell_type": "code",
      "execution_count": 22,
      "metadata": {
        "id": "ENAld0OEwVaj"
      },
      "outputs": [],
      "source": [
        "data = pd.read_csv(\"/content/synthetic_progress_data.csv\")"
      ]
    },
    {
      "cell_type": "code",
      "source": [
        "# Recommendation model\n",
        "class ExerciseRecommender:\n",
        "    def __init__(self):\n",
        "        self.scaler = MinMaxScaler()\n",
        "        self.difficulty_mapping = {\"Easy\": 1, \"Medium\": 2, \"Hard\": 3}\n",
        "        self.performance_mapping = {\"Good\": 3, \"Average\": 2, \"Bad\": 1}\n",
        "\n",
        "    def preprocess_data(self, data):\n",
        "        data = data.copy()\n",
        "        data[\"Difficulty Level\"] = data[\"Difficulty Level\"].map(self.difficulty_mapping)\n",
        "        data[\"Performance Score\"] = data[\"Overall Performance\"].map(self.performance_mapping)\n",
        "        data[[\"Total Reps\", \"Total Time (s)\"]] = self.scaler.transform(data[[\"Total Reps\", \"Total Time (s)\"]])\n",
        "        return data\n",
        "\n",
        "    def fit(self, data):\n",
        "        data = data.copy()\n",
        "        self.scaler.fit(data[[\"Total Reps\", \"Total Time (s)\"]])\n",
        "        return self\n",
        "\n",
        "    def create_user_profile(self, data, user_id):\n",
        "        user_data = data[data[\"User ID\"] == user_id]\n",
        "        user_profile = user_data[[\"Total Reps\", \"Total Time (s)\", \"Difficulty Level\", \"Performance Score\"]].mean()\n",
        "        return user_profile.values.reshape(1, -1)\n",
        "\n",
        "    def recommend_exercises(self, data, user_profile, top_n=5):\n",
        "        exercise_vectors = data[[\"Total Reps\", \"Total Time (s)\", \"Difficulty Level\", \"Performance Score\"]].values\n",
        "        similarities = cosine_similarity(user_profile, exercise_vectors).flatten()\n",
        "        data[\"Similarity\"] = similarities\n",
        "\n",
        "        exercise_summary = (\n",
        "            data.groupby(\"Exercise Name\")\n",
        "            .agg({\n",
        "                \"Similarity\": \"mean\",\n",
        "                \"Total Reps\": \"mean\",\n",
        "                \"Difficulty Level\": \"mean\",\n",
        "                \"Performance Score\": \"mean\",\n",
        "                \"Total Time (s)\": \"mean\"\n",
        "            })\n",
        "            .reset_index()\n",
        "        )\n",
        "\n",
        "        exercise_summary[\"Adjusted Similarity\"] = (\n",
        "            exercise_summary[\"Similarity\"] * (1 + (3 - exercise_summary[\"Performance Score\"]) * 0.2)\n",
        "        )\n",
        "        recommendations = exercise_summary.sort_values(by=\"Adjusted Similarity\", ascending=False).head(top_n)\n",
        "\n",
        "        return recommendations[[\"Exercise Name\"]]"
      ],
      "metadata": {
        "id": "bqKolIrHwt7C"
      },
      "execution_count": 23,
      "outputs": []
    },
    {
      "cell_type": "code",
      "source": [
        "recommender = ExerciseRecommender()\n",
        "recommender.fit(data)"
      ],
      "metadata": {
        "colab": {
          "base_uri": "https://localhost:8080/"
        },
        "id": "xTb9AJxrw-LL",
        "outputId": "f516e1a4-2d44-4078-c01a-3d0f308ee430"
      },
      "execution_count": 24,
      "outputs": [
        {
          "output_type": "execute_result",
          "data": {
            "text/plain": [
              "<__main__.ExerciseRecommender at 0x7c544099fb10>"
            ]
          },
          "metadata": {},
          "execution_count": 24
        }
      ]
    },
    {
      "cell_type": "code",
      "source": [
        "with open('recommender2.pkl', 'wb') as file:\n",
        "    pickle.dump(recommender, file)\n",
        "\n",
        "with open('scaler2.pkl', 'wb') as file:\n",
        "    pickle.dump(recommender.scaler, file)"
      ],
      "metadata": {
        "id": "J6DUFLL_xN9U"
      },
      "execution_count": 25,
      "outputs": []
    },
    {
      "cell_type": "code",
      "source": [
        "user_id = 1\n",
        "\n",
        "processed_data = recommender.preprocess_data(data)\n",
        "user_profile = recommender.create_user_profile(processed_data, user_id)\n",
        "recommendations = recommender.recommend_exercises(processed_data, user_profile)"
      ],
      "metadata": {
        "id": "fUhhkfOgxQFQ"
      },
      "execution_count": 26,
      "outputs": []
    },
    {
      "cell_type": "code",
      "source": [
        "print(f\"Top 5 recommendations for User 1:\")\n",
        "print(recommendations)"
      ],
      "metadata": {
        "colab": {
          "base_uri": "https://localhost:8080/"
        },
        "id": "kHaqZ4Dpxm6X",
        "outputId": "ebeb39ba-4e2e-4c53-8533-e2e7261cb7e0"
      },
      "execution_count": 27,
      "outputs": [
        {
          "output_type": "stream",
          "name": "stdout",
          "text": [
            "Top 5 recommendations for User 1:\n",
            "       Exercise Name\n",
            "5     Neck Side Bend\n",
            "3    Neck Isometrics\n",
            "0         Chin Tucks\n",
            "7  Seated Head Turns\n",
            "1     Neck Extension\n"
          ]
        }
      ]
    }
  ],
  "metadata": {
    "kernelspec": {
      "display_name": "env",
      "language": "python",
      "name": "python3"
    },
    "language_info": {
      "codemirror_mode": {
        "name": "ipython",
        "version": 3
      },
      "file_extension": ".py",
      "mimetype": "text/x-python",
      "name": "python",
      "nbconvert_exporter": "python",
      "pygments_lexer": "ipython3",
      "version": "3.11.7"
    },
    "colab": {
      "provenance": []
    }
  },
  "nbformat": 4,
  "nbformat_minor": 0
}