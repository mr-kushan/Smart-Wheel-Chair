{
  "nbformat": 4,
  "nbformat_minor": 0,
  "metadata": {
    "colab": {
      "provenance": []
    },
    "kernelspec": {
      "name": "python3",
      "display_name": "Python 3"
    },
    "language_info": {
      "name": "python"
    }
  },
  "cells": [
    {
      "cell_type": "markdown",
      "source": [
        "Synthetic data generation for personalized neck exercise recommendation."
      ],
      "metadata": {
        "id": "z9xtSSdklw8l"
      }
    },
    {
      "cell_type": "code",
      "source": [
        "import pandas as pd\n",
        "import random"
      ],
      "metadata": {
        "id": "bgWhh1_b5627"
      },
      "execution_count": null,
      "outputs": []
    },
    {
      "cell_type": "code",
      "source": [
        "n_records = 1000\n",
        "user_ids = list(range(1, n_records + 1))\n",
        "genders = ['Male', 'Female', 'Non-binary']"
      ],
      "metadata": {
        "id": "NjU0OoqNlhny"
      },
      "execution_count": null,
      "outputs": []
    },
    {
      "cell_type": "code",
      "source": [
        "exercise_data = {\n",
        "    \"Paraplegia\": {\n",
        "        \"Beginner\": [\n",
        "            {\n",
        "                \"ExerciseID\": 101,\n",
        "                \"ExerciseName\": \"Seated Neck Stretch\",\n",
        "                \"DifficultyLevel\": \"Easy\",\n",
        "                \"Description\": \"Gently tilt your head to one side and hold for 15 seconds.\",\n",
        "                \"Goal\": \"Improve neck flexibility\"\n",
        "            },\n",
        "            {\n",
        "                \"ExerciseID\": 102,\n",
        "                \"ExerciseName\": \"Neck Rotation\",\n",
        "                \"DifficultyLevel\": \"Easy\",\n",
        "                \"Description\": \"Slowly turn your head to the right and hold for 15 seconds, then to the left.\",\n",
        "                \"Goal\": \"Enhance neck mobility\"\n",
        "            }\n",
        "        ],\n",
        "        \"Intermediate\": [\n",
        "            {\n",
        "                \"ExerciseID\": 103,\n",
        "                \"ExerciseName\": \"Chin Tucks\",\n",
        "                \"DifficultyLevel\": \"Medium\",\n",
        "                \"Description\": \"Tuck your chin towards your chest and hold for 5 seconds.\",\n",
        "                \"Goal\": \"Strengthen neck muscles\"\n",
        "            },\n",
        "            {\n",
        "                \"ExerciseID\": 104,\n",
        "                \"ExerciseName\": \"Shoulder Shrugs\",\n",
        "                \"DifficultyLevel\": \"Medium\",\n",
        "                \"Description\": \"Lift your shoulders towards your ears and then relax them back down.\",\n",
        "                \"Goal\": \"Reduce shoulder tension\"\n",
        "            }\n",
        "        ],\n",
        "        \"Advanced\": [\n",
        "            {\n",
        "                \"ExerciseID\": 108,\n",
        "                \"ExerciseName\": \"Resistance Band Neck Pull\",\n",
        "                \"DifficultyLevel\": \"Hard\",\n",
        "                \"Description\": \"Use a resistance band anchored behind your chair, hold the ends, and pull towards you while keeping your elbows down.\",\n",
        "                \"Goal\": \"Strengthen neck and shoulders\"\n",
        "            }\n",
        "        ]\n",
        "    },\n",
        "    \"Quadriplegia\": {\n",
        "        \"Beginner\": [\n",
        "            {\n",
        "                \"ExerciseID\": 105,\n",
        "                \"ExerciseName\": \"Seated Side Neck Stretch\",\n",
        "                \"DifficultyLevel\": \"Easy\",\n",
        "                \"Description\": \"Place your right hand on the left side of your head and gently pull to the right, holding for 15 seconds.\",\n",
        "                \"Goal\": \"Relieve neck tension\"\n",
        "            }\n",
        "        ],\n",
        "        \"Intermediate\": [\n",
        "            {\n",
        "                \"ExerciseID\": 106,\n",
        "                \"ExerciseName\": \"Neck Isometrics\",\n",
        "                \"DifficultyLevel\": \"Medium\",\n",
        "                \"Description\": \"Press your forehead against your hands without moving your head and hold for 5 seconds.\",\n",
        "                \"Goal\": \"Increase neck strength\"\n",
        "            }\n",
        "        ]\n",
        "    },\n",
        "    \"Spinal Cord Injury\": {\n",
        "        \"Beginner\": [\n",
        "            {\n",
        "                \"ExerciseID\": 107,\n",
        "                \"ExerciseName\": \"Neck Flexion\",\n",
        "                \"DifficultyLevel\": \"Easy\",\n",
        "                \"Description\": \"Gently drop your chin towards your chest and hold for 10 seconds.\",\n",
        "                \"Goal\": \"Improve neck flexibility\"\n",
        "            }\n",
        "        ],\n",
        "        \"Intermediate\": [\n",
        "            {\n",
        "                \"ExerciseID\": 111,\n",
        "                \"ExerciseName\": \"Seated Head Turns\",\n",
        "                \"DifficultyLevel\": \"Medium\",\n",
        "                \"Description\": \"Turn your head as far as comfortable to the right, then to the left. Hold each position for 10 seconds.\",\n",
        "                \"Goal\": \"Enhance neck mobility\"\n",
        "            }\n",
        "        ],\n",
        "        \"Advanced\": [\n",
        "            {\n",
        "                \"ExerciseID\": 109,\n",
        "                \"ExerciseName\": \"Neck Side Bend\",\n",
        "                \"DifficultyLevel\": \"Medium\",\n",
        "                \"Description\": \"Tilt your head to the right shoulder while keeping your shoulder relaxed. Hold for 15 seconds.\",\n",
        "                \"Goal\": \"Increase neck mobility\"\n",
        "            }\n",
        "        ]\n",
        "    },\n",
        "    \"Amputation\": {\n",
        "        \"Beginner\": [\n",
        "            {\n",
        "                \"ExerciseID\": 110,\n",
        "                \"ExerciseName\": \"Neck Extension\",\n",
        "                \"DifficultyLevel\": \"Easy\",\n",
        "                \"Description\": \"Look up towards the ceiling and hold for 5 seconds.\",\n",
        "                \"Goal\": \"Improve posture\"\n",
        "            }\n",
        "        ],\n",
        "        \"Intermediate\": [\n",
        "            {\n",
        "                \"ExerciseID\": 112,\n",
        "                \"ExerciseName\": \"Neck Stretch with a Towel\",\n",
        "                \"DifficultyLevel\": \"Medium\",\n",
        "                \"Description\": \"Use a towel behind your head and gently pull down to stretch the neck muscles. Hold for 15 seconds.\",\n",
        "                \"Goal\": \"Improve flexibility\"\n",
        "            }\n",
        "        ]\n",
        "    },\n",
        "    \"Multiple Sclerosis\": {\n",
        "        \"Beginner\": [\n",
        "            {\n",
        "                \"ExerciseID\": 113,\n",
        "                \"ExerciseName\": \"Seated Neck Flexion\",\n",
        "                \"DifficultyLevel\": \"Easy\",\n",
        "                \"Description\": \"Tuck your chin in while keeping your back straight. Hold for 10 seconds and repeat.\",\n",
        "                \"Goal\": \"Strengthen neck stability\"\n",
        "            }\n",
        "        ],\n",
        "        \"Intermediate\": [\n",
        "            {\n",
        "                \"ExerciseID\": 114,\n",
        "                \"ExerciseName\": \"Seated Shoulder Blade Squeeze\",\n",
        "                \"DifficultyLevel\": \"Medium\",\n",
        "                \"Description\": \"Squeeze your shoulder blades together and hold for 5 seconds.\",\n",
        "                \"Goal\": \"Improve upper back strength\"\n",
        "            }\n",
        "        ],\n",
        "        \"Advanced\": [\n",
        "            {\n",
        "                \"ExerciseID\": 115,\n",
        "                \"ExerciseName\": \"Gentle Neck Massage\",\n",
        "                \"DifficultyLevel\": \"Easy\",\n",
        "                \"Description\": \"Use your fingers to gently massage the neck area, focusing on any tight spots.\",\n",
        "                \"Goal\": \"Relieve tension\"\n",
        "            }\n",
        "        ]\n",
        "    }\n",
        "}"
      ],
      "metadata": {
        "id": "XhunmZWBliFh"
      },
      "execution_count": null,
      "outputs": []
    },
    {
      "cell_type": "code",
      "source": [
        "injuries = list(exercise_data.keys())\n",
        "\n",
        "data = []\n",
        "for i in range(n_records):\n",
        "    injury = random.choice(injuries)\n",
        "    available_fitness_levels = list(exercise_data[injury].keys())\n",
        "    fitness_level = random.choice(available_fitness_levels)\n",
        "    exercise = random.choice(exercise_data[injury][fitness_level])\n",
        "    data.append({\n",
        "        'UserID': user_ids[i],\n",
        "        'Age': random.choice(range(18, 91)),\n",
        "        'Gender': random.choice(genders),\n",
        "        'Injury': injury,\n",
        "        'Fitness Level': fitness_level,\n",
        "        'ExerciseID': exercise[\"ExerciseID\"],\n",
        "        'Exercise Name': exercise[\"ExerciseName\"],\n",
        "        'Difficulty Level': exercise[\"DifficultyLevel\"],\n",
        "        'Description': exercise[\"Description\"],\n",
        "        'Goal': exercise[\"Goal\"]\n",
        "    })"
      ],
      "metadata": {
        "id": "zRKl24AilndB"
      },
      "execution_count": null,
      "outputs": []
    },
    {
      "cell_type": "code",
      "source": [
        "df = pd.DataFrame(data)\n",
        "\n",
        "df.to_csv('wheelchair_neck_exercise_dataset.csv', index=False)"
      ],
      "metadata": {
        "id": "ZCk_Ljpclr68"
      },
      "execution_count": null,
      "outputs": []
    }
  ]
}