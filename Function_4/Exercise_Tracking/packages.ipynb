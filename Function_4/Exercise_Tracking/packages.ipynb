{
 "cells": [
  {
   "cell_type": "code",
   "execution_count": null,
   "metadata": {},
   "outputs": [
    {
     "name": "stdout",
     "output_type": "stream",
     "text": [
      "Python version: 3.10.14 | packaged by Anaconda, Inc. | (main, May  6 2024, 19:44:50) [MSC v.1916 64 bit (AMD64)]\n",
      "OpenCV version: 4.10.0\n",
      "NumPy version: 1.26.4\n",
      "FastAPI version: 0.110.3\n",
      "Uvicorn version: 0.31.0\n",
      "TensorFlow version: 2.10.1\n",
      "Keras version: 2.10.0\n",
      "Pydantic version: 2.9.2\n"
     ]
    }
   ],
   "source": [
    "# Check the Python version\n",
    "import sys\n",
    "print(f\"Python version: {sys.version}\")\n",
    "\n",
    "# Check the OpenCV version\n",
    "import cv2\n",
    "print(f\"OpenCV version: {cv2.__version__}\")\n",
    "\n",
    "# Check the NumPy version\n",
    "import numpy as np\n",
    "print(f\"NumPy version: {np.__version__}\")\n",
    "\n",
    "# Check the FastAPI version\n",
    "import fastapi\n",
    "print(f\"FastAPI version: {fastapi.__version__}\")\n",
    "\n",
    "# Check the Uvicorn version\n",
    "import uvicorn\n",
    "print(f\"Uvicorn version: {uvicorn.__version__}\")\n",
    "\n",
    "# Check the TensorFlow version\n",
    "import tensorflow as tf\n",
    "print(f\"TensorFlow version: {tf.__version__}\")\n",
    "\n",
    "# Check the Keras version\n",
    "import keras\n",
    "print(f\"Keras version: {keras.__version__}\")\n",
    "\n",
    "# Check the Pydantic version\n",
    "import pydantic\n",
    "print(f\"Pydantic version: {pydantic.__version__}\")\n"
   ]
  }
 ],
 "metadata": {
  "kernelspec": {
   "display_name": "exercise",
   "language": "python",
   "name": "python3"
  },
  "language_info": {
   "codemirror_mode": {
    "name": "ipython",
    "version": 3
   },
   "file_extension": ".py",
   "mimetype": "text/x-python",
   "name": "python",
   "nbconvert_exporter": "python",
   "pygments_lexer": "ipython3",
   "version": "3.10.15"
  }
 },
 "nbformat": 4,
 "nbformat_minor": 2
}
