{
  "cells": [
    {
      "cell_type": "code",
      "source": [
        "from google.colab import drive\n",
        "drive.mount('/content/drive')"
      ],
      "metadata": {
        "colab": {
          "base_uri": "https://localhost:8080/"
        },
        "id": "q4uzvxNxlFTs",
        "outputId": "f8acb76c-54b8-4421-aec3-8ce8d62814db"
      },
      "execution_count": 10,
      "outputs": [
        {
          "output_type": "stream",
          "name": "stdout",
          "text": [
            "Drive already mounted at /content/drive; to attempt to forcibly remount, call drive.mount(\"/content/drive\", force_remount=True).\n"
          ]
        }
      ]
    },
    {
      "cell_type": "markdown",
      "metadata": {
        "id": "9WI7h4O3k5oT"
      },
      "source": [
        "## Exercise Recommendation Model 1"
      ]
    },
    {
      "cell_type": "code",
      "source": [
        "import pandas as pd\n",
        "import pickle\n",
        "from sklearn.preprocessing import MinMaxScaler\n",
        "from sklearn.metrics.pairwise import cosine_similarity"
      ],
      "metadata": {
        "id": "dEqP7K8pInra"
      },
      "execution_count": 11,
      "outputs": []
    },
    {
      "cell_type": "code",
      "execution_count": 12,
      "metadata": {
        "id": "soM-Xx0ek5oV"
      },
      "outputs": [],
      "source": [
        "df = pd.read_csv('/content/exercise_dataset.csv')"
      ]
    },
    {
      "cell_type": "code",
      "execution_count": 13,
      "metadata": {
        "colab": {
          "base_uri": "https://localhost:8080/"
        },
        "id": "SxTR4mRdk5oV",
        "outputId": "4196f02a-497f-43be-9dea-475fdd5b7fb5"
      },
      "outputs": [
        {
          "output_type": "stream",
          "name": "stdout",
          "text": [
            "   UserID  Age  Gender              Injury Fitness Level  ExerciseID  \\\n",
            "0       1   55  Female        Quadriplegia      Beginner           8   \n",
            "1       2   55    Male  Multiple Sclerosis      Beginner           4   \n",
            "2       3   86    Male        Quadriplegia  Intermediate           5   \n",
            "3       4   51  Female          Paraplegia      Beginner           1   \n",
            "4       5   43    Male  Spinal Cord Injury  Intermediate           6   \n",
            "\n",
            "       Exercise Name  \n",
            "0  Neck Side Stretch  \n",
            "1       Neck Flexion  \n",
            "2    Neck Isometrics  \n",
            "3         Chin Tucks  \n",
            "4  Seated Head Turns  \n"
          ]
        }
      ],
      "source": [
        "print(df.head())"
      ]
    },
    {
      "cell_type": "code",
      "execution_count": 14,
      "metadata": {
        "colab": {
          "base_uri": "https://localhost:8080/"
        },
        "id": "WrLOBs9hk5oW",
        "outputId": "ef233d03-f247-445c-e166-1feaa2912225"
      },
      "outputs": [
        {
          "output_type": "stream",
          "name": "stdout",
          "text": [
            "Exercises:\n",
            "\n",
            "Neck Side Stretch\n",
            "Neck Flexion\n",
            "Neck Isometrics\n",
            "Chin Tucks\n",
            "Seated Head Turns\n",
            "Neck Rotation\n",
            "Neck Extension\n",
            "Neck Side Bend\n",
            "Shoulder Shrugs\n"
          ]
        }
      ],
      "source": [
        "print('Exercises:\\n')\n",
        "\n",
        "for exercise_name in df['Exercise Name'].unique():\n",
        "    print(exercise_name)"
      ]
    },
    {
      "cell_type": "code",
      "source": [
        "# Recommender class\n",
        "class Recommender:\n",
        "    def __init__(self):\n",
        "        self.scaler = MinMaxScaler()\n",
        "        self.gender_mapping = {\"Male\": 1, \"Female\": 0}\n",
        "        self.injury_mapping = {\"Quadriplegia\": 0, \"Multiple Sclerosis\": 1, \"Paraplegia\": 2, \"Spinal Cord Injury\": 3, \"Amputation\": 4}\n",
        "        self.fitness_mapping = {\"Beginner\": 1, \"Intermediate\": 2, \"Advanced\": 3}\n",
        "        self.rep_counts = {\"Beginner\": 6, \"Intermediate\": 10, \"Advanced\": 15}\n",
        "\n",
        "    def preprocess_data(self, data):\n",
        "        data = data.copy()\n",
        "        data[\"Gender\"] = data[\"Gender\"].map(self.gender_mapping)\n",
        "        data[\"Injury\"] = data[\"Injury\"].map(self.injury_mapping)\n",
        "        data[\"Fitness Level\"] = data[\"Fitness Level\"].map(self.fitness_mapping)\n",
        "        data[[\"Age\"]] = self.scaler.transform(data[[\"Age\"]])\n",
        "        return data\n",
        "\n",
        "    def fit(self, data):\n",
        "        data = data.copy()\n",
        "        self.scaler.fit(data[[\"Age\"]])\n",
        "        return self\n",
        "\n",
        "    def create_user_profile(self, user_age, user_gender, user_injury, user_fitness_level):\n",
        "        user_data = pd.DataFrame({\n",
        "            \"Age\": [user_age],\n",
        "            \"Gender\": [self.gender_mapping.get(user_gender, 0)],\n",
        "            \"Injury\": [self.injury_mapping.get(user_injury, 0)],\n",
        "            \"Fitness Level\": [self.fitness_mapping.get(user_fitness_level, 1)]\n",
        "        })\n",
        "        user_data[[\"Age\"]] = self.scaler.transform(user_data[[\"Age\"]])\n",
        "        return user_data.values.reshape(1, -1)\n",
        "\n",
        "    def recommend_exercises(self, data, user_profile, fitness_level, top_n=5):\n",
        "        exercise_vectors = data[[\"Age\", \"Gender\", \"Injury\", \"Fitness Level\"]].values\n",
        "        similarities = cosine_similarity(user_profile, exercise_vectors).flatten()\n",
        "        data[\"Similarity\"] = similarities\n",
        "        exercise_summary = (\n",
        "            data.groupby(\"Exercise Name\")\n",
        "            .agg({\"Similarity\": \"mean\"})\n",
        "            .reset_index()\n",
        "        )\n",
        "        recommendations = exercise_summary.sort_values(by=\"Similarity\", ascending=False).head(top_n)\n",
        "        recommended_reps = self.rep_counts.get(fitness_level, 6)\n",
        "        return [{\"Exercise Name\": row[\"Exercise Name\"], \"Recommended Reps\": recommended_reps}\n",
        "                for _, row in recommendations.iterrows()]"
      ],
      "metadata": {
        "id": "SnwTnDS0Ilgr"
      },
      "execution_count": 15,
      "outputs": []
    },
    {
      "cell_type": "code",
      "source": [
        "# Training function\n",
        "def train_recommender1():\n",
        "\n",
        "    recommender = Recommender()\n",
        "    recommender.fit(df)\n",
        "\n",
        "    with open(\"recommender1.pkl\", \"wb\") as f:\n",
        "        pickle.dump(recommender, f)\n",
        "\n",
        "train_recommender1()"
      ],
      "metadata": {
        "id": "m_e66R2VIzia"
      },
      "execution_count": 16,
      "outputs": []
    },
    {
      "cell_type": "code",
      "source": [
        "# test\n",
        "\n",
        "gender = \"Male\"\n",
        "age = 30\n",
        "injury = \"Amputation\"\n",
        "fitness_level = \"Beginner\"\n",
        "\n",
        "# Load the trained recommender from the pickle file\n",
        "with open(\"recommender1.pkl\", \"rb\") as f:\n",
        "    recommender = pickle.load(f)\n",
        "\n",
        "processed_df = recommender.preprocess_data(df)\n",
        "user_profile = recommender.create_user_profile(age, gender, injury, fitness_level)\n",
        "recommendations = recommender.recommend_exercises(processed_df, user_profile, fitness_level)\n",
        "\n",
        "\n",
        "for rec in recommendations:\n",
        "        print(f\"- {rec['Exercise Name']}: {rec['Recommended Reps']} reps\")"
      ],
      "metadata": {
        "colab": {
          "base_uri": "https://localhost:8080/"
        },
        "id": "qUsu1McLJLQT",
        "outputId": "39caa74e-3a1c-420f-8f62-b7c1469fe375"
      },
      "execution_count": 18,
      "outputs": [
        {
          "output_type": "stream",
          "name": "stdout",
          "text": [
            "- Neck Extension: 6 reps\n",
            "- Chin Tucks: 6 reps\n",
            "- Seated Head Turns: 6 reps\n",
            "- Neck Side Bend: 6 reps\n",
            "- Shoulder Shrugs: 6 reps\n"
          ]
        }
      ]
    }
  ],
  "metadata": {
    "kernelspec": {
      "display_name": "env",
      "language": "python",
      "name": "python3"
    },
    "language_info": {
      "codemirror_mode": {
        "name": "ipython",
        "version": 3
      },
      "file_extension": ".py",
      "mimetype": "text/x-python",
      "name": "python",
      "nbconvert_exporter": "python",
      "pygments_lexer": "ipython3",
      "version": "3.11.7"
    },
    "colab": {
      "provenance": []
    }
  },
  "nbformat": 4,
  "nbformat_minor": 0
}