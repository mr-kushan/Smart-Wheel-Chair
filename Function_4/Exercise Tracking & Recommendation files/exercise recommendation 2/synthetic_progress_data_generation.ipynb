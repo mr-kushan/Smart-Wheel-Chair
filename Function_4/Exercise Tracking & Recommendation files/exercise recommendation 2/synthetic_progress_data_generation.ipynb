{
 "cells": [
  {
   "cell_type": "code",
   "execution_count": 14,
   "metadata": {},
   "outputs": [],
   "source": [
    "import pandas as pd\n",
    "import random"
   ]
  },
  {
   "cell_type": "code",
   "execution_count": 15,
   "metadata": {},
   "outputs": [],
   "source": [
    "NUM_USERS = 50\n",
    "EXERCISES = [\n",
    "    \"Neck Rotation\",\n",
    "    \"Chin Tucks\",\n",
    "    \"Shoulder Shrugs\",\n",
    "    \"Neck Side Stretch\",\n",
    "    \"Neck Flexion\",\n",
    "    \"Neck Extension\",\n",
    "    \"Neck Isometrics\",\n",
    "    \"Neck Side Bend\",\n",
    "    \"Seated Head Turns\"\n",
    "]\n",
    "\n",
    "difficulty_map = {\n",
    "    \"Neck Side Stretch\": \"Easy\",\n",
    "    \"Neck Rotation\": \"Easy\",\n",
    "    \"Chin Tucks\": \"Medium\",\n",
    "    \"Shoulder Shrugs\": \"Medium\",\n",
    "    \"Neck Flexion\": \"Easy\",\n",
    "    \"Seated Head Turns\": \"Medium\",\n",
    "    \"Neck Side Bend\": \"Medium\",\n",
    "    \"Neck Isometrics\": \"Medium\",\n",
    "    \"Neck Extension\": \"Easy\"\n",
    "}\n",
    "\n",
    "genders = [\"Male\", \"Female\", \"Non-binary\"]"
   ]
  },
  {
   "cell_type": "code",
   "execution_count": 16,
   "metadata": {},
   "outputs": [],
   "source": [
    "def generate_user_performance_data(n_users, exercises):\n",
    "    data = []\n",
    "    user_ids = range(1, n_users + 1)\n",
    "\n",
    "    for user_id in user_ids:\n",
    "        gender = random.choice(genders)\n",
    "        for exercise in exercises:\n",
    "            total_reps = random.randint(5, 50)\n",
    "            total_time = round(random.uniform(30, 300), 2)\n",
    "            performance = (\n",
    "                \"Good\" if total_reps >= 30 and total_time >= 180 else\n",
    "                \"Average\" if total_reps >= 15 and total_time >= 90 else\n",
    "                \"Bad\"\n",
    "            )\n",
    "            difficulty = difficulty_map[exercise]\n",
    "\n",
    "            data.append({\n",
    "                \"User ID\": user_id,\n",
    "                \"Gender\": gender,\n",
    "                \"Exercise Name\": exercise,\n",
    "                \"Difficulty Level\": difficulty,\n",
    "                \"Total Reps\": total_reps,\n",
    "                \"Total Time (s)\": total_time,\n",
    "                \"Overall Performance\": performance\n",
    "            })\n",
    "\n",
    "    return pd.DataFrame(data)\n"
   ]
  },
  {
   "cell_type": "code",
   "execution_count": 17,
   "metadata": {},
   "outputs": [],
   "source": [
    "df = generate_user_performance_data(NUM_USERS, EXERCISES)\n",
    "df.to_csv(\"synthetic_progress_data.csv\", index=False)"
   ]
  },
  {
   "cell_type": "code",
   "execution_count": 18,
   "metadata": {},
   "outputs": [],
   "source": [
    "data = pd.read_csv(\"synthetic_progress_data.csv\")"
   ]
  },
  {
   "cell_type": "code",
   "execution_count": 19,
   "metadata": {},
   "outputs": [
    {
     "data": {
      "text/html": [
       "<div>\n",
       "<style scoped>\n",
       "    .dataframe tbody tr th:only-of-type {\n",
       "        vertical-align: middle;\n",
       "    }\n",
       "\n",
       "    .dataframe tbody tr th {\n",
       "        vertical-align: top;\n",
       "    }\n",
       "\n",
       "    .dataframe thead th {\n",
       "        text-align: right;\n",
       "    }\n",
       "</style>\n",
       "<table border=\"1\" class=\"dataframe\">\n",
       "  <thead>\n",
       "    <tr style=\"text-align: right;\">\n",
       "      <th></th>\n",
       "      <th>User ID</th>\n",
       "      <th>Gender</th>\n",
       "      <th>Exercise Name</th>\n",
       "      <th>Difficulty Level</th>\n",
       "      <th>Total Reps</th>\n",
       "      <th>Total Time (s)</th>\n",
       "      <th>Overall Performance</th>\n",
       "    </tr>\n",
       "  </thead>\n",
       "  <tbody>\n",
       "    <tr>\n",
       "      <th>0</th>\n",
       "      <td>1</td>\n",
       "      <td>Female</td>\n",
       "      <td>Neck Rotation</td>\n",
       "      <td>Easy</td>\n",
       "      <td>15</td>\n",
       "      <td>241.20</td>\n",
       "      <td>Average</td>\n",
       "    </tr>\n",
       "    <tr>\n",
       "      <th>1</th>\n",
       "      <td>1</td>\n",
       "      <td>Female</td>\n",
       "      <td>Chin Tucks</td>\n",
       "      <td>Medium</td>\n",
       "      <td>11</td>\n",
       "      <td>270.28</td>\n",
       "      <td>Bad</td>\n",
       "    </tr>\n",
       "    <tr>\n",
       "      <th>2</th>\n",
       "      <td>1</td>\n",
       "      <td>Female</td>\n",
       "      <td>Shoulder Shrugs</td>\n",
       "      <td>Medium</td>\n",
       "      <td>23</td>\n",
       "      <td>214.68</td>\n",
       "      <td>Average</td>\n",
       "    </tr>\n",
       "    <tr>\n",
       "      <th>3</th>\n",
       "      <td>1</td>\n",
       "      <td>Female</td>\n",
       "      <td>Neck Side Stretch</td>\n",
       "      <td>Easy</td>\n",
       "      <td>16</td>\n",
       "      <td>65.50</td>\n",
       "      <td>Bad</td>\n",
       "    </tr>\n",
       "    <tr>\n",
       "      <th>4</th>\n",
       "      <td>1</td>\n",
       "      <td>Female</td>\n",
       "      <td>Neck Flexion</td>\n",
       "      <td>Easy</td>\n",
       "      <td>32</td>\n",
       "      <td>79.75</td>\n",
       "      <td>Bad</td>\n",
       "    </tr>\n",
       "  </tbody>\n",
       "</table>\n",
       "</div>"
      ],
      "text/plain": [
       "   User ID  Gender      Exercise Name Difficulty Level  Total Reps  \\\n",
       "0        1  Female      Neck Rotation             Easy          15   \n",
       "1        1  Female         Chin Tucks           Medium          11   \n",
       "2        1  Female    Shoulder Shrugs           Medium          23   \n",
       "3        1  Female  Neck Side Stretch             Easy          16   \n",
       "4        1  Female       Neck Flexion             Easy          32   \n",
       "\n",
       "   Total Time (s) Overall Performance  \n",
       "0          241.20             Average  \n",
       "1          270.28                 Bad  \n",
       "2          214.68             Average  \n",
       "3           65.50                 Bad  \n",
       "4           79.75                 Bad  "
      ]
     },
     "execution_count": 19,
     "metadata": {},
     "output_type": "execute_result"
    }
   ],
   "source": [
    "data.head()"
   ]
  },
  {
   "cell_type": "code",
   "execution_count": 20,
   "metadata": {},
   "outputs": [
    {
     "name": "stdout",
     "output_type": "stream",
     "text": [
      "<class 'pandas.core.frame.DataFrame'>\n",
      "RangeIndex: 450 entries, 0 to 449\n",
      "Data columns (total 7 columns):\n",
      " #   Column               Non-Null Count  Dtype  \n",
      "---  ------               --------------  -----  \n",
      " 0   User ID              450 non-null    int64  \n",
      " 1   Gender               450 non-null    object \n",
      " 2   Exercise Name        450 non-null    object \n",
      " 3   Difficulty Level     450 non-null    object \n",
      " 4   Total Reps           450 non-null    int64  \n",
      " 5   Total Time (s)       450 non-null    float64\n",
      " 6   Overall Performance  450 non-null    object \n",
      "dtypes: float64(1), int64(2), object(4)\n",
      "memory usage: 24.7+ KB\n"
     ]
    }
   ],
   "source": [
    "data.info()"
   ]
  }
 ],
 "metadata": {
  "kernelspec": {
   "display_name": "env",
   "language": "python",
   "name": "python3"
  },
  "language_info": {
   "codemirror_mode": {
    "name": "ipython",
    "version": 3
   },
   "file_extension": ".py",
   "mimetype": "text/x-python",
   "name": "python",
   "nbconvert_exporter": "python",
   "pygments_lexer": "ipython3",
   "version": "3.11.7"
  }
 },
 "nbformat": 4,
 "nbformat_minor": 2
}
